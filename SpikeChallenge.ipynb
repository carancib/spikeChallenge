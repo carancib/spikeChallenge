{
 "cells": [
  {
   "cell_type": "code",
   "execution_count": 1,
   "metadata": {},
   "outputs": [],
   "source": [
    "import pandas as pd\n",
    "import numpy as np\n",
    "import matplotlib.pyplot as plt\n",
    "import seaborn as sns\n",
    "%matplotlib inline\n",
    "from sklearn.preprocessing import MinMaxScaler\n",
    "from sklearn.model_selection import train_test_split\n",
    "from sklearn.naive_bayes import MultinomialNB\n",
    "from sklearn.metrics import classification_report\n",
    "from sklearn.metrics import confusion_matrix\n",
    "from sklearn.metrics import accuracy_score\n",
    "from sklearn.metrics import precision_recall_curve\n",
    "from sklearn.preprocessing import StandardScaler\n",
    "from sklearn.linear_model import LogisticRegression\n",
    "from sklearn.tree import DecisionTreeClassifier\n",
    "from sklearn.utils import resample\n",
    "pd.set_option('mode.chained_assignment', None)"
   ]
  },
  {
   "cell_type": "markdown",
   "metadata": {},
   "source": [
    "## Carga de datos"
   ]
  },
  {
   "cell_type": "code",
   "execution_count": 2,
   "metadata": {},
   "outputs": [
    {
     "name": "stderr",
     "output_type": "stream",
     "text": [
      "/anaconda3/lib/python3.7/site-packages/numpy/lib/arraysetops.py:569: FutureWarning: elementwise comparison failed; returning scalar instead, but in the future will perform elementwise comparison\n",
      "  mask |= (ar1 == a)\n"
     ]
    },
    {
     "data": {
      "text/html": [
       "<div>\n",
       "<style scoped>\n",
       "    .dataframe tbody tr th:only-of-type {\n",
       "        vertical-align: middle;\n",
       "    }\n",
       "\n",
       "    .dataframe tbody tr th {\n",
       "        vertical-align: top;\n",
       "    }\n",
       "\n",
       "    .dataframe thead th {\n",
       "        text-align: right;\n",
       "    }\n",
       "</style>\n",
       "<table border=\"1\" class=\"dataframe\">\n",
       "  <thead>\n",
       "    <tr style=\"text-align: right;\">\n",
       "      <th></th>\n",
       "      <th>codigo_estacion</th>\n",
       "      <th>institucion</th>\n",
       "      <th>fuente</th>\n",
       "      <th>nombre</th>\n",
       "      <th>altura</th>\n",
       "      <th>latitud</th>\n",
       "      <th>longitud</th>\n",
       "      <th>codigo_cuenca</th>\n",
       "      <th>nombre_sub_cuenca</th>\n",
       "      <th>cantidad_observaciones</th>\n",
       "      <th>fecha</th>\n",
       "      <th>caudal</th>\n",
       "      <th>gauge_id</th>\n",
       "      <th>gauge_name</th>\n",
       "      <th>precip_promedio</th>\n",
       "      <th>temp_max_promedio</th>\n",
       "    </tr>\n",
       "  </thead>\n",
       "  <tbody>\n",
       "    <tr>\n",
       "      <th>0</th>\n",
       "      <td>4540001</td>\n",
       "      <td>DGA</td>\n",
       "      <td>dga_web</td>\n",
       "      <td>Rio Grande En Paloma 1</td>\n",
       "      <td>310</td>\n",
       "      <td>-30.6833</td>\n",
       "      <td>-71.050003</td>\n",
       "      <td>45</td>\n",
       "      <td>Rio Grande Bajo (Entre E Paloma Y Rio Hurtado)</td>\n",
       "      <td>11575</td>\n",
       "      <td>1960-01-06 00:00:00+00:00</td>\n",
       "      <td>0.812</td>\n",
       "      <td>4540001</td>\n",
       "      <td>Rio Grande En Paloma 1</td>\n",
       "      <td>0.0</td>\n",
       "      <td>NaN</td>\n",
       "    </tr>\n",
       "    <tr>\n",
       "      <th>1</th>\n",
       "      <td>4540001</td>\n",
       "      <td>DGA</td>\n",
       "      <td>dga_web</td>\n",
       "      <td>Rio Grande En Paloma 1</td>\n",
       "      <td>310</td>\n",
       "      <td>-30.6833</td>\n",
       "      <td>-71.050003</td>\n",
       "      <td>45</td>\n",
       "      <td>Rio Grande Bajo (Entre E Paloma Y Rio Hurtado)</td>\n",
       "      <td>11575</td>\n",
       "      <td>1960-03-27 00:00:00+00:00</td>\n",
       "      <td>0.236</td>\n",
       "      <td>4540001</td>\n",
       "      <td>Rio Grande En Paloma 1</td>\n",
       "      <td>0.0</td>\n",
       "      <td>NaN</td>\n",
       "    </tr>\n",
       "    <tr>\n",
       "      <th>2</th>\n",
       "      <td>4540001</td>\n",
       "      <td>DGA</td>\n",
       "      <td>dga_web</td>\n",
       "      <td>Rio Grande En Paloma 1</td>\n",
       "      <td>310</td>\n",
       "      <td>-30.6833</td>\n",
       "      <td>-71.050003</td>\n",
       "      <td>45</td>\n",
       "      <td>Rio Grande Bajo (Entre E Paloma Y Rio Hurtado)</td>\n",
       "      <td>11575</td>\n",
       "      <td>1960-05-07 00:00:00+00:00</td>\n",
       "      <td>0.730</td>\n",
       "      <td>4540001</td>\n",
       "      <td>Rio Grande En Paloma 1</td>\n",
       "      <td>0.0</td>\n",
       "      <td>NaN</td>\n",
       "    </tr>\n",
       "    <tr>\n",
       "      <th>3</th>\n",
       "      <td>4540001</td>\n",
       "      <td>DGA</td>\n",
       "      <td>dga_web</td>\n",
       "      <td>Rio Grande En Paloma 1</td>\n",
       "      <td>310</td>\n",
       "      <td>-30.6833</td>\n",
       "      <td>-71.050003</td>\n",
       "      <td>45</td>\n",
       "      <td>Rio Grande Bajo (Entre E Paloma Y Rio Hurtado)</td>\n",
       "      <td>11575</td>\n",
       "      <td>1960-06-30 00:00:00+00:00</td>\n",
       "      <td>3.590</td>\n",
       "      <td>4540001</td>\n",
       "      <td>Rio Grande En Paloma 1</td>\n",
       "      <td>0.0</td>\n",
       "      <td>NaN</td>\n",
       "    </tr>\n",
       "    <tr>\n",
       "      <th>4</th>\n",
       "      <td>4540001</td>\n",
       "      <td>DGA</td>\n",
       "      <td>dga_web</td>\n",
       "      <td>Rio Grande En Paloma 1</td>\n",
       "      <td>310</td>\n",
       "      <td>-30.6833</td>\n",
       "      <td>-71.050003</td>\n",
       "      <td>45</td>\n",
       "      <td>Rio Grande Bajo (Entre E Paloma Y Rio Hurtado)</td>\n",
       "      <td>11575</td>\n",
       "      <td>1960-07-22 00:00:00+00:00</td>\n",
       "      <td>1.370</td>\n",
       "      <td>4540001</td>\n",
       "      <td>Rio Grande En Paloma 1</td>\n",
       "      <td>0.0</td>\n",
       "      <td>NaN</td>\n",
       "    </tr>\n",
       "  </tbody>\n",
       "</table>\n",
       "</div>"
      ],
      "text/plain": [
       "   codigo_estacion institucion   fuente                  nombre  altura  \\\n",
       "0          4540001         DGA  dga_web  Rio Grande En Paloma 1     310   \n",
       "1          4540001         DGA  dga_web  Rio Grande En Paloma 1     310   \n",
       "2          4540001         DGA  dga_web  Rio Grande En Paloma 1     310   \n",
       "3          4540001         DGA  dga_web  Rio Grande En Paloma 1     310   \n",
       "4          4540001         DGA  dga_web  Rio Grande En Paloma 1     310   \n",
       "\n",
       "   latitud   longitud  codigo_cuenca  \\\n",
       "0 -30.6833 -71.050003             45   \n",
       "1 -30.6833 -71.050003             45   \n",
       "2 -30.6833 -71.050003             45   \n",
       "3 -30.6833 -71.050003             45   \n",
       "4 -30.6833 -71.050003             45   \n",
       "\n",
       "                                nombre_sub_cuenca  cantidad_observaciones  \\\n",
       "0  Rio Grande Bajo (Entre E Paloma Y Rio Hurtado)                   11575   \n",
       "1  Rio Grande Bajo (Entre E Paloma Y Rio Hurtado)                   11575   \n",
       "2  Rio Grande Bajo (Entre E Paloma Y Rio Hurtado)                   11575   \n",
       "3  Rio Grande Bajo (Entre E Paloma Y Rio Hurtado)                   11575   \n",
       "4  Rio Grande Bajo (Entre E Paloma Y Rio Hurtado)                   11575   \n",
       "\n",
       "                       fecha  caudal  gauge_id              gauge_name  \\\n",
       "0  1960-01-06 00:00:00+00:00   0.812   4540001  Rio Grande En Paloma 1   \n",
       "1  1960-03-27 00:00:00+00:00   0.236   4540001  Rio Grande En Paloma 1   \n",
       "2  1960-05-07 00:00:00+00:00   0.730   4540001  Rio Grande En Paloma 1   \n",
       "3  1960-06-30 00:00:00+00:00   3.590   4540001  Rio Grande En Paloma 1   \n",
       "4  1960-07-22 00:00:00+00:00   1.370   4540001  Rio Grande En Paloma 1   \n",
       "\n",
       "   precip_promedio  temp_max_promedio  \n",
       "0              0.0                NaN  \n",
       "1              0.0                NaN  \n",
       "2              0.0                NaN  \n",
       "3              0.0                NaN  \n",
       "4              0.0                NaN  "
      ]
     },
     "execution_count": 2,
     "metadata": {},
     "output_type": "execute_result"
    }
   ],
   "source": [
    "df = pd.read_csv('caudal_extra.csv.zip', index_col=0)\n",
    "df.head(5)"
   ]
  },
  {
   "cell_type": "code",
   "execution_count": 3,
   "metadata": {},
   "outputs": [
    {
     "name": "stdout",
     "output_type": "stream",
     "text": [
      "cantidad de datos duplicados 0\n"
     ]
    }
   ],
   "source": [
    "print('cantidad de datos duplicados', df.duplicated().sum())"
   ]
  },
  {
   "cell_type": "markdown",
   "metadata": {},
   "source": [
    "Exploraremos la metadata del dataframe a ver si los datos están cargados correctamente, y veremos si existen missing values"
   ]
  },
  {
   "cell_type": "code",
   "execution_count": 4,
   "metadata": {},
   "outputs": [
    {
     "name": "stdout",
     "output_type": "stream",
     "text": [
      "<class 'pandas.core.frame.DataFrame'>\n",
      "Int64Index: 1411180 entries, 0 to 1411179\n",
      "Data columns (total 16 columns):\n",
      "codigo_estacion           1411180 non-null int64\n",
      "institucion               1411180 non-null object\n",
      "fuente                    1411180 non-null object\n",
      "nombre                    1411180 non-null object\n",
      "altura                    1411180 non-null int64\n",
      "latitud                   1411180 non-null float64\n",
      "longitud                  1411180 non-null float64\n",
      "codigo_cuenca             1411180 non-null int64\n",
      "nombre_sub_cuenca         1411180 non-null object\n",
      "cantidad_observaciones    1411180 non-null int64\n",
      "fecha                     1411180 non-null object\n",
      "caudal                    1411180 non-null float64\n",
      "gauge_id                  1411180 non-null int64\n",
      "gauge_name                1411180 non-null object\n",
      "precip_promedio           1383413 non-null float64\n",
      "temp_max_promedio         1259617 non-null float64\n",
      "dtypes: float64(5), int64(5), object(6)\n",
      "memory usage: 183.0+ MB\n"
     ]
    }
   ],
   "source": [
    "df.info()"
   ]
  },
  {
   "cell_type": "markdown",
   "metadata": {},
   "source": [
    "Tenemos 16 columnas de las cuales 14 no tienen missing values. Las columnas precip_promedio y temp_max_promedio, contienen 27.767 y 151.563 NaN respectivamente, esto puede deberse al hecho de que no existían estaciones medidoras en esa cuenca en ese período, y como es una medición diaria, se producen muchos missing values.\n",
    "\n",
    "Hay algunas columnas que no estan muy bien explicadas en el desafío como por ejemplo codigo_cuenca de la cual hay 29 tipos (estoy pensando que puede ser una cuenca mas grande a la que pertenece esta subcuenca) o a que se refiere cantidad_observaciones, pero intentaremos ver si sirven de algo más adelante.\n",
    "\n",
    "Además la fecha está como objeto y no reconocida como fecha, por lo que la convertiremos a datetime"
   ]
  },
  {
   "cell_type": "code",
   "execution_count": 5,
   "metadata": {},
   "outputs": [],
   "source": [
    "# Convertimos fecha a datetime\n",
    "df['fecha'] =  pd.to_datetime(df['fecha']).dt.tz_localize(None)"
   ]
  },
  {
   "cell_type": "code",
   "execution_count": 6,
   "metadata": {},
   "outputs": [],
   "source": [
    "# Ademas eliminaremos las columnas que no nos servirán para este análisis debido a que \n",
    "# no contienen informacion relevante para este modelamiento\n",
    "\n",
    "df = df.drop(columns=['institucion', 'fuente', 'nombre', 'altura', 'latitud', 'longitud', \n",
    "                     'codigo_cuenca', 'nombre_sub_cuenca', 'cantidad_observaciones', 'gauge_id', 'gauge_name'], axis=1)"
   ]
  },
  {
   "cell_type": "markdown",
   "metadata": {},
   "source": [
    "### Distribucion variables relevantes"
   ]
  },
  {
   "cell_type": "markdown",
   "metadata": {},
   "source": [
    "En esta sección analizaremos las variables relevantes según el desafío, que son el caudal, la temperatura max promedio y la precipitación promedio, para ver si podemos caracterizar de alguna forma las cuencas\n",
    "\n",
    "Primero veremos la distribucion de la cantidad de observaciones por estación, esto puede influir a la hora de hacer predicciones porque algunas tendrán mas información que otras."
   ]
  },
  {
   "cell_type": "code",
   "execution_count": 7,
   "metadata": {},
   "outputs": [
    {
     "data": {
      "text/html": [
       "<div>\n",
       "<style scoped>\n",
       "    .dataframe tbody tr th:only-of-type {\n",
       "        vertical-align: middle;\n",
       "    }\n",
       "\n",
       "    .dataframe tbody tr th {\n",
       "        vertical-align: top;\n",
       "    }\n",
       "\n",
       "    .dataframe thead th {\n",
       "        text-align: right;\n",
       "    }\n",
       "</style>\n",
       "<table border=\"1\" class=\"dataframe\">\n",
       "  <thead>\n",
       "    <tr style=\"text-align: right;\">\n",
       "      <th></th>\n",
       "      <th>codigo_estacion</th>\n",
       "      <th>caudal_Count</th>\n",
       "      <th>temp_max_promedio_Count</th>\n",
       "      <th>precip_promedio_Count</th>\n",
       "    </tr>\n",
       "  </thead>\n",
       "  <tbody>\n",
       "    <tr>\n",
       "      <th>0</th>\n",
       "      <td>1020003</td>\n",
       "      <td>12194</td>\n",
       "      <td>11141</td>\n",
       "      <td>12194</td>\n",
       "    </tr>\n",
       "    <tr>\n",
       "      <th>1</th>\n",
       "      <td>1021001</td>\n",
       "      <td>12043</td>\n",
       "      <td>9534</td>\n",
       "      <td>12043</td>\n",
       "    </tr>\n",
       "    <tr>\n",
       "      <th>2</th>\n",
       "      <td>1050004</td>\n",
       "      <td>10943</td>\n",
       "      <td>10411</td>\n",
       "      <td>10843</td>\n",
       "    </tr>\n",
       "    <tr>\n",
       "      <th>3</th>\n",
       "      <td>1211001</td>\n",
       "      <td>8780</td>\n",
       "      <td>7048</td>\n",
       "      <td>8750</td>\n",
       "    </tr>\n",
       "    <tr>\n",
       "      <th>4</th>\n",
       "      <td>2103003</td>\n",
       "      <td>2596</td>\n",
       "      <td>2563</td>\n",
       "      <td>2596</td>\n",
       "    </tr>\n",
       "  </tbody>\n",
       "</table>\n",
       "</div>"
      ],
      "text/plain": [
       "   codigo_estacion  caudal_Count  temp_max_promedio_Count  \\\n",
       "0          1020003         12194                    11141   \n",
       "1          1021001         12043                     9534   \n",
       "2          1050004         10943                    10411   \n",
       "3          1211001          8780                     7048   \n",
       "4          2103003          2596                     2563   \n",
       "\n",
       "   precip_promedio_Count  \n",
       "0                  12194  \n",
       "1                  12043  \n",
       "2                  10843  \n",
       "3                   8750  \n",
       "4                   2596  "
      ]
     },
     "execution_count": 7,
     "metadata": {},
     "output_type": "execute_result"
    }
   ],
   "source": [
    "n_por_estacion = df[['codigo_estacion', 'caudal', 'temp_max_promedio', 'precip_promedio']].groupby('codigo_estacion').count().add_suffix('_Count').reset_index()\n",
    "n_por_estacion.head(5)"
   ]
  },
  {
   "cell_type": "code",
   "execution_count": 8,
   "metadata": {},
   "outputs": [
    {
     "data": {
      "text/html": [
       "<div>\n",
       "<style scoped>\n",
       "    .dataframe tbody tr th:only-of-type {\n",
       "        vertical-align: middle;\n",
       "    }\n",
       "\n",
       "    .dataframe tbody tr th {\n",
       "        vertical-align: top;\n",
       "    }\n",
       "\n",
       "    .dataframe thead th {\n",
       "        text-align: right;\n",
       "    }\n",
       "</style>\n",
       "<table border=\"1\" class=\"dataframe\">\n",
       "  <thead>\n",
       "    <tr style=\"text-align: right;\">\n",
       "      <th></th>\n",
       "      <th>codigo_estacion</th>\n",
       "      <th>caudal_Count</th>\n",
       "      <th>temp_max_promedio_Count</th>\n",
       "      <th>precip_promedio_Count</th>\n",
       "    </tr>\n",
       "  </thead>\n",
       "  <tbody>\n",
       "    <tr>\n",
       "      <th>count</th>\n",
       "      <td>1.330000e+02</td>\n",
       "      <td>133.000000</td>\n",
       "      <td>133.000000</td>\n",
       "      <td>133.000000</td>\n",
       "    </tr>\n",
       "    <tr>\n",
       "      <th>mean</th>\n",
       "      <td>6.619852e+06</td>\n",
       "      <td>10610.375940</td>\n",
       "      <td>9470.804511</td>\n",
       "      <td>10401.601504</td>\n",
       "    </tr>\n",
       "    <tr>\n",
       "      <th>std</th>\n",
       "      <td>3.165929e+06</td>\n",
       "      <td>5784.779294</td>\n",
       "      <td>4978.607703</td>\n",
       "      <td>5692.342851</td>\n",
       "    </tr>\n",
       "    <tr>\n",
       "      <th>min</th>\n",
       "      <td>1.020003e+06</td>\n",
       "      <td>802.000000</td>\n",
       "      <td>790.000000</td>\n",
       "      <td>1.000000</td>\n",
       "    </tr>\n",
       "    <tr>\n",
       "      <th>25%</th>\n",
       "      <td>4.320001e+06</td>\n",
       "      <td>5524.000000</td>\n",
       "      <td>5361.000000</td>\n",
       "      <td>5462.000000</td>\n",
       "    </tr>\n",
       "    <tr>\n",
       "      <th>50%</th>\n",
       "      <td>7.116001e+06</td>\n",
       "      <td>10255.000000</td>\n",
       "      <td>9091.000000</td>\n",
       "      <td>9607.000000</td>\n",
       "    </tr>\n",
       "    <tr>\n",
       "      <th>75%</th>\n",
       "      <td>8.380006e+06</td>\n",
       "      <td>15677.000000</td>\n",
       "      <td>14542.000000</td>\n",
       "      <td>15642.000000</td>\n",
       "    </tr>\n",
       "    <tr>\n",
       "      <th>max</th>\n",
       "      <td>1.287600e+07</td>\n",
       "      <td>20706.000000</td>\n",
       "      <td>19631.000000</td>\n",
       "      <td>20647.000000</td>\n",
       "    </tr>\n",
       "  </tbody>\n",
       "</table>\n",
       "</div>"
      ],
      "text/plain": [
       "       codigo_estacion  caudal_Count  temp_max_promedio_Count  \\\n",
       "count     1.330000e+02    133.000000               133.000000   \n",
       "mean      6.619852e+06  10610.375940              9470.804511   \n",
       "std       3.165929e+06   5784.779294              4978.607703   \n",
       "min       1.020003e+06    802.000000               790.000000   \n",
       "25%       4.320001e+06   5524.000000              5361.000000   \n",
       "50%       7.116001e+06  10255.000000              9091.000000   \n",
       "75%       8.380006e+06  15677.000000             14542.000000   \n",
       "max       1.287600e+07  20706.000000             19631.000000   \n",
       "\n",
       "       precip_promedio_Count  \n",
       "count             133.000000  \n",
       "mean            10401.601504  \n",
       "std              5692.342851  \n",
       "min                 1.000000  \n",
       "25%              5462.000000  \n",
       "50%              9607.000000  \n",
       "75%             15642.000000  \n",
       "max             20647.000000  "
      ]
     },
     "execution_count": 8,
     "metadata": {},
     "output_type": "execute_result"
    }
   ],
   "source": [
    "n_por_estacion.describe()"
   ]
  },
  {
   "cell_type": "code",
   "execution_count": 9,
   "metadata": {},
   "outputs": [
    {
     "data": {
      "text/plain": [
       "<matplotlib.axes._subplots.AxesSubplot at 0x1053e4e48>"
      ]
     },
     "execution_count": 9,
     "metadata": {},
     "output_type": "execute_result"
    },
    {
     "data": {
      "image/png": "[encoded data removed]",
      "text/plain": [
       "<Figure size 720x360 with 1 Axes>"
      ]
     },
     "metadata": {
      "needs_background": "light"
     },
     "output_type": "display_data"
    }
   ],
   "source": [
    "n_por_estacion.caudal_Count.hist(alpha=0.4, bins=30, figsize=(10,5))\n",
    "n_por_estacion.temp_max_promedio_Count.hist(alpha=0.3, bins=30)\n",
    "n_por_estacion.precip_promedio_Count.hist(alpha=0.4, bins=30)"
   ]
  },
  {
   "cell_type": "markdown",
   "metadata": {},
   "source": [
    "Podemos ver que la distribución de las observaciones entre cuencas no es muy uniforme, tenemos un 25% inferior de las cuencas donde hay alrededor de 5.500 observaciones por variable, y otras cuencas en el 25% superior donde tienen 15.000 observaciones por cada medición. Esto puede influir a la hora de crear nuestros eventos extremos ya que pueden haber datos ocultos para las estaciones con menores medidas"
   ]
  },
  {
   "cell_type": "markdown",
   "metadata": {},
   "source": [
    "Tambien analizaremos la distribucion de los valores de estas medidas"
   ]
  },
  {
   "cell_type": "code",
   "execution_count": 10,
   "metadata": {},
   "outputs": [
    {
     "data": {
      "text/html": [
       "<div>\n",
       "<style scoped>\n",
       "    .dataframe tbody tr th:only-of-type {\n",
       "        vertical-align: middle;\n",
       "    }\n",
       "\n",
       "    .dataframe tbody tr th {\n",
       "        vertical-align: top;\n",
       "    }\n",
       "\n",
       "    .dataframe thead th {\n",
       "        text-align: right;\n",
       "    }\n",
       "</style>\n",
       "<table border=\"1\" class=\"dataframe\">\n",
       "  <thead>\n",
       "    <tr style=\"text-align: right;\">\n",
       "      <th></th>\n",
       "      <th>codigo_estacion</th>\n",
       "      <th>caudal_mean</th>\n",
       "      <th>temp_max_promedio_mean</th>\n",
       "      <th>precip_promedio_mean</th>\n",
       "    </tr>\n",
       "  </thead>\n",
       "  <tbody>\n",
       "    <tr>\n",
       "      <th>0</th>\n",
       "      <td>1020003</td>\n",
       "      <td>0.144569</td>\n",
       "      <td>11.476255</td>\n",
       "      <td>0.951037</td>\n",
       "    </tr>\n",
       "    <tr>\n",
       "      <th>1</th>\n",
       "      <td>1021001</td>\n",
       "      <td>2.538351</td>\n",
       "      <td>11.631694</td>\n",
       "      <td>0.884537</td>\n",
       "    </tr>\n",
       "    <tr>\n",
       "      <th>2</th>\n",
       "      <td>1050004</td>\n",
       "      <td>0.171735</td>\n",
       "      <td>14.283326</td>\n",
       "      <td>0.340518</td>\n",
       "    </tr>\n",
       "    <tr>\n",
       "      <th>3</th>\n",
       "      <td>1211001</td>\n",
       "      <td>1.279278</td>\n",
       "      <td>14.161425</td>\n",
       "      <td>0.582896</td>\n",
       "    </tr>\n",
       "    <tr>\n",
       "      <th>4</th>\n",
       "      <td>2103003</td>\n",
       "      <td>0.061300</td>\n",
       "      <td>14.619398</td>\n",
       "      <td>0.187192</td>\n",
       "    </tr>\n",
       "  </tbody>\n",
       "</table>\n",
       "</div>"
      ],
      "text/plain": [
       "   codigo_estacion  caudal_mean  temp_max_promedio_mean  precip_promedio_mean\n",
       "0          1020003     0.144569               11.476255              0.951037\n",
       "1          1021001     2.538351               11.631694              0.884537\n",
       "2          1050004     0.171735               14.283326              0.340518\n",
       "3          1211001     1.279278               14.161425              0.582896\n",
       "4          2103003     0.061300               14.619398              0.187192"
      ]
     },
     "execution_count": 10,
     "metadata": {},
     "output_type": "execute_result"
    }
   ],
   "source": [
    "media_por_estacion = df[['codigo_estacion', 'caudal', 'temp_max_promedio', 'precip_promedio']].groupby('codigo_estacion').mean().add_suffix('_mean').reset_index()\n",
    "media_por_estacion.head(5)"
   ]
  },
  {
   "cell_type": "code",
   "execution_count": 11,
   "metadata": {},
   "outputs": [
    {
     "data": {
      "text/html": [
       "<div>\n",
       "<style scoped>\n",
       "    .dataframe tbody tr th:only-of-type {\n",
       "        vertical-align: middle;\n",
       "    }\n",
       "\n",
       "    .dataframe tbody tr th {\n",
       "        vertical-align: top;\n",
       "    }\n",
       "\n",
       "    .dataframe thead th {\n",
       "        text-align: right;\n",
       "    }\n",
       "</style>\n",
       "<table border=\"1\" class=\"dataframe\">\n",
       "  <thead>\n",
       "    <tr style=\"text-align: right;\">\n",
       "      <th></th>\n",
       "      <th>codigo_estacion</th>\n",
       "      <th>caudal_mean</th>\n",
       "      <th>temp_max_promedio_mean</th>\n",
       "      <th>precip_promedio_mean</th>\n",
       "    </tr>\n",
       "  </thead>\n",
       "  <tbody>\n",
       "    <tr>\n",
       "      <th>count</th>\n",
       "      <td>1.330000e+02</td>\n",
       "      <td>133.000000</td>\n",
       "      <td>133.000000</td>\n",
       "      <td>133.000000</td>\n",
       "    </tr>\n",
       "    <tr>\n",
       "      <th>mean</th>\n",
       "      <td>6.619852e+06</td>\n",
       "      <td>119.725845</td>\n",
       "      <td>18.586741</td>\n",
       "      <td>2.007494</td>\n",
       "    </tr>\n",
       "    <tr>\n",
       "      <th>std</th>\n",
       "      <td>3.165929e+06</td>\n",
       "      <td>206.779491</td>\n",
       "      <td>4.345025</td>\n",
       "      <td>1.843316</td>\n",
       "    </tr>\n",
       "    <tr>\n",
       "      <th>min</th>\n",
       "      <td>1.020003e+06</td>\n",
       "      <td>0.061300</td>\n",
       "      <td>9.637564</td>\n",
       "      <td>0.099341</td>\n",
       "    </tr>\n",
       "    <tr>\n",
       "      <th>25%</th>\n",
       "      <td>4.320001e+06</td>\n",
       "      <td>3.116892</td>\n",
       "      <td>15.226925</td>\n",
       "      <td>0.371899</td>\n",
       "    </tr>\n",
       "    <tr>\n",
       "      <th>50%</th>\n",
       "      <td>7.116001e+06</td>\n",
       "      <td>15.857596</td>\n",
       "      <td>18.622616</td>\n",
       "      <td>1.245224</td>\n",
       "    </tr>\n",
       "    <tr>\n",
       "      <th>75%</th>\n",
       "      <td>8.380006e+06</td>\n",
       "      <td>126.073153</td>\n",
       "      <td>21.758131</td>\n",
       "      <td>3.569124</td>\n",
       "    </tr>\n",
       "    <tr>\n",
       "      <th>max</th>\n",
       "      <td>1.287600e+07</td>\n",
       "      <td>954.011219</td>\n",
       "      <td>28.471567</td>\n",
       "      <td>6.950711</td>\n",
       "    </tr>\n",
       "  </tbody>\n",
       "</table>\n",
       "</div>"
      ],
      "text/plain": [
       "       codigo_estacion  caudal_mean  temp_max_promedio_mean  \\\n",
       "count     1.330000e+02   133.000000              133.000000   \n",
       "mean      6.619852e+06   119.725845               18.586741   \n",
       "std       3.165929e+06   206.779491                4.345025   \n",
       "min       1.020003e+06     0.061300                9.637564   \n",
       "25%       4.320001e+06     3.116892               15.226925   \n",
       "50%       7.116001e+06    15.857596               18.622616   \n",
       "75%       8.380006e+06   126.073153               21.758131   \n",
       "max       1.287600e+07   954.011219               28.471567   \n",
       "\n",
       "       precip_promedio_mean  \n",
       "count            133.000000  \n",
       "mean               2.007494  \n",
       "std                1.843316  \n",
       "min                0.099341  \n",
       "25%                0.371899  \n",
       "50%                1.245224  \n",
       "75%                3.569124  \n",
       "max                6.950711  "
      ]
     },
     "execution_count": 11,
     "metadata": {},
     "output_type": "execute_result"
    }
   ],
   "source": [
    "media_por_estacion.describe()"
   ]
  },
  {
   "cell_type": "code",
   "execution_count": 12,
   "metadata": {},
   "outputs": [
    {
     "data": {
      "text/plain": [
       "<matplotlib.axes._subplots.AxesSubplot at 0x1a18fcfd68>"
      ]
     },
     "execution_count": 12,
     "metadata": {},
     "output_type": "execute_result"
    },
    {
     "data": {
      "image/png": "[encoded data removed]",
      "text/plain": [
       "<Figure size 432x288 with 1 Axes>"
      ]
     },
     "metadata": {
      "needs_background": "light"
     },
     "output_type": "display_data"
    }
   ],
   "source": [
    "plt.title('Histograma caudal promedio por estacion')\n",
    "media_por_estacion.caudal_mean.hist(alpha=0.4, bins=30)"
   ]
  },
  {
   "cell_type": "code",
   "execution_count": 13,
   "metadata": {},
   "outputs": [
    {
     "data": {
      "text/plain": [
       "<matplotlib.axes._subplots.AxesSubplot at 0x1a19144048>"
      ]
     },
     "execution_count": 13,
     "metadata": {},
     "output_type": "execute_result"
    },
    {
     "data": {
      "image/png": "[encoded data removed]",
      "text/plain": [
       "<Figure size 432x288 with 1 Axes>"
      ]
     },
     "metadata": {
      "needs_background": "light"
     },
     "output_type": "display_data"
    }
   ],
   "source": [
    "plt.title('Histograma temp max promedio por estacion')\n",
    "media_por_estacion.temp_max_promedio_mean.hist(alpha=0.3, bins=30)"
   ]
  },
  {
   "cell_type": "code",
   "execution_count": 14,
   "metadata": {},
   "outputs": [
    {
     "data": {
      "text/plain": [
       "<matplotlib.axes._subplots.AxesSubplot at 0x1a19e1d908>"
      ]
     },
     "execution_count": 14,
     "metadata": {},
     "output_type": "execute_result"
    },
    {
     "data": {
      "image/png": "[encoded data removed]",
      "text/plain": [
       "<Figure size 432x288 with 1 Axes>"
      ]
     },
     "metadata": {
      "needs_background": "light"
     },
     "output_type": "display_data"
    }
   ],
   "source": [
    "plt.title('Histograma precip promedio por estacion')\n",
    "media_por_estacion.precip_promedio_mean.hist(alpha=0.4, bins=30)"
   ]
  },
  {
   "cell_type": "markdown",
   "metadata": {},
   "source": [
    "Creo que este análisis es muy valioso porque nos muestra que las cuencas son muy diferentes entre si. En cuanto al caudal, la distribucion es muy dispareja, la media es alrededor de 8 veces la mediana por lo que tenemos muchas cuencas con caudales pequeños y algunas cuencas con caudales muy grandes. La distribucion del promedio de temperatura es un poco mas pareja, pero aun así tenemos un rango entre 15 y 21º que abarca sólo el 50% de las cuencas. \n",
    "\n",
    "Finalmente la precipitacion promedio es bastante pequeña para las cuencas, pero esto es influido porque muchos de los días no llueve, por lo que la medición es 0. Aún así es importante destacar que en el 25% inferior (0.37) llueve 10 veces menos que en el 25% superior (3.5)"
   ]
  },
  {
   "cell_type": "markdown",
   "metadata": {},
   "source": [
    "### Missing values"
   ]
  },
  {
   "cell_type": "markdown",
   "metadata": {},
   "source": [
    "Creo que es importante ver si estos missing values están repartidos *equitativamente* entre cuencas, o se deben quizás a que unas cuencas tienen condiciones que hacen que medir temperatura o precipitación sea más dificil\n",
    "\n",
    "Primero calcularemos la frecuencia de missing values en precipitacion por cuenca"
   ]
  },
  {
   "cell_type": "code",
   "execution_count": 15,
   "metadata": {},
   "outputs": [
    {
     "name": "stdout",
     "output_type": "stream",
     "text": [
      "cantidad de missing values precipitacion\n",
      "missing values, freq\n",
      "0       85\n",
      "1        4\n",
      "61       3\n",
      "31       2\n",
      "18       2\n",
      "3        2\n",
      "2        2\n",
      "6        1\n",
      "3591     1\n",
      "12       1\n",
      "15       1\n",
      "16       1\n",
      "2101     1\n",
      "2077     1\n",
      "30       1\n",
      "801      1\n",
      "34       1\n",
      "36       1\n",
      "1072     1\n",
      "49       1\n",
      "2297     1\n",
      "756      1\n",
      "112      1\n",
      "1497     1\n",
      "1485     1\n",
      "3019     1\n",
      "941      1\n",
      "1027     1\n",
      "916      1\n",
      "399      1\n",
      "104      1\n",
      "59       1\n",
      "100      1\n",
      "610      1\n",
      "97       1\n",
      "92       1\n",
      "91       1\n",
      "840      1\n",
      "1598     1\n",
      "1592     1\n",
      "Name: count, dtype: int64\n"
     ]
    }
   ],
   "source": [
    "missing_por_cuencas = df.precip_promedio.isnull().groupby([df['codigo_estacion']]).sum().astype(int).reset_index(name='count')\n",
    "print('cantidad de missing values precipitacion')\n",
    "print('missing values, freq')\n",
    "print(missing_por_cuencas['count'].value_counts())"
   ]
  },
  {
   "cell_type": "markdown",
   "metadata": {},
   "source": [
    "Ahora calcularemos la frecuencia de missing values en temperatura por cuenca"
   ]
  },
  {
   "cell_type": "code",
   "execution_count": 16,
   "metadata": {},
   "outputs": [
    {
     "name": "stdout",
     "output_type": "stream",
     "text": [
      "cantidad de missing values temperatura\n",
      "missing values, freq\n",
      "0       24\n",
      "1        6\n",
      "4        3\n",
      "5        3\n",
      "66       1\n",
      "306      1\n",
      "3        1\n",
      "1079     1\n",
      "570      1\n",
      "3906     1\n",
      "1340     1\n",
      "205      1\n",
      "881      1\n",
      "1088     1\n",
      "1091     1\n",
      "44       1\n",
      "513      1\n",
      "845      1\n",
      "1358     1\n",
      "1776     1\n",
      "80       1\n",
      "2780     1\n",
      "339      1\n",
      "87       1\n",
      "1624     1\n",
      "3887     1\n",
      "40       1\n",
      "2859     1\n",
      "3597     1\n",
      "2        1\n",
      "        ..\n",
      "1507     1\n",
      "1233     1\n",
      "1511     1\n",
      "1008     1\n",
      "673      1\n",
      "3487     1\n",
      "1485     1\n",
      "5019     1\n",
      "351      1\n",
      "609      1\n",
      "610      1\n",
      "2404     1\n",
      "2661     1\n",
      "5225     1\n",
      "5482     1\n",
      "778      1\n",
      "12       1\n",
      "112      1\n",
      "113      1\n",
      "1397     1\n",
      "13       1\n",
      "2694     1\n",
      "1931     1\n",
      "3212     1\n",
      "5261     1\n",
      "2193     1\n",
      "663      1\n",
      "2969     1\n",
      "154      1\n",
      "2139     1\n",
      "Name: count, Length: 101, dtype: int64\n"
     ]
    }
   ],
   "source": [
    "missing_por_cuencas = df.temp_max_promedio.isnull().groupby([df['codigo_estacion']]).sum().astype(int).reset_index(name='count')\n",
    "print('cantidad de missing values temperatura')\n",
    "print('missing values, freq')\n",
    "print(missing_por_cuencas['count'].value_counts())"
   ]
  },
  {
   "cell_type": "markdown",
   "metadata": {},
   "source": [
    "Podemos ver de estas tabla de frecuencia que 85 de 133 estaciones (64%) no tienen missing values  en precipitación y que 24 de 133 (18%) no tienen missing values en temperatura máxima promedio. Aun así hay muchas estaciones que tienen un pequeño número de missing values (aún confiables) y por ejemplo sólo 11 estaciones tienen más de 1000 missing values en precipitación. Creo que esto es importante a la hora de modelar, porque probablemente estas estaciones no sean tan fidedignas. Podríamos imputar los datos con un promedio entre los días que si tienen medidas, o buscando más data externamente con zonas aledañas geográficamente"
   ]
  },
  {
   "cell_type": "markdown",
   "metadata": {},
   "source": [
    "# Plotting"
   ]
  },
  {
   "cell_type": "markdown",
   "metadata": {},
   "source": [
    "Escribir una función que tome como input una estación y haga plot de los datos para\n",
    "una columna"
   ]
  },
  {
   "cell_type": "code",
   "execution_count": 17,
   "metadata": {},
   "outputs": [],
   "source": [
    "def time_plot_una_estacion(codigo_estacion, columna, fecha_min, fecha_max):\n",
    "    '''\n",
    "    Esta función grafica una medida para una estación determinada entre dos fechas\n",
    "    \n",
    "     Argumentos\n",
    "    ----------\n",
    "    codigo_estacion : int\n",
    "        codigo correspondiente a la estación de medición de caudal\n",
    "    columna : str\n",
    "        nombre de la columna correspondiente a la medida, puede ser \"caudal\", \"precip_promedio\" o \"temp_max_promedio\"\n",
    "    fecha_min : datetime\n",
    "        fecha inicial para el gráfico en formato 'YYYY-MM-DD'\n",
    "    fecha_max : datetime\n",
    "        fecha final para el gráfico en formato 'YYYY-MM-DD'\n",
    "    '''\n",
    "    try:\n",
    "        data_plot = df[['fecha', columna]][df['codigo_estacion'] == codigo_estacion].set_index('fecha')\n",
    "        data_plot = data_plot[fecha_min : fecha_max]\n",
    "        data_plot.plot(title=('Estacion ' + str(codigo_estacion)), figsize=(10,5))\n",
    "    except:\n",
    "        print(\"Ocurrió un error, por favor revisa los inputs\")\n",
    "        print(time_plot_una_estacion.__doc__)"
   ]
  },
  {
   "cell_type": "code",
   "execution_count": 18,
   "metadata": {},
   "outputs": [
    {
     "data": {
      "image/png": "[encoded data removed]",
      "text/plain": [
       "<Figure size 720x360 with 1 Axes>"
      ]
     },
     "metadata": {
      "needs_background": "light"
     },
     "output_type": "display_data"
    }
   ],
   "source": [
    "time_plot_una_estacion(4540001, \"caudal\", '1960-01-06', '1961-01-06')"
   ]
  },
  {
   "cell_type": "markdown",
   "metadata": {},
   "source": [
    "Plot de varias columnas con escala normalizada, elegi una normalización min-max porque me pareció la mas adecuada, representar todas las variables con respecto a ellas mismas en una escala [0,1]"
   ]
  },
  {
   "cell_type": "code",
   "execution_count": 19,
   "metadata": {},
   "outputs": [],
   "source": [
    "def time_plot_estaciones_varias_columnas(codigo_estacion, columnas, fecha_min, fecha_max):\n",
    "    '''\n",
    "    Esta función grafica una o mas medidas para una estación determinada entre dos fechas\n",
    "    \n",
    "     Argumentos\n",
    "    ----------\n",
    "    codigo_estacion : int\n",
    "        codigo correspondiente a la estación de medición de caudal\n",
    "    columnas : list\n",
    "        lista de medidas a graficar entre brackets \"[]\", por ej: \"[\"caudal\", \"precip_promedio\"]\"\n",
    "    fecha_min : datetime\n",
    "        fecha inicial para el gráfico en formato 'YYYY-MM-DD'\n",
    "    fecha_max : datetime\n",
    "        fecha final para el gráfico en formato 'YYYY-MM-DD'\n",
    "    '''\n",
    "    try:\n",
    "        cols = columnas.append('fecha')\n",
    "        data_plot_varios = df[columnas][df['codigo_estacion'] == codigo_estacion].set_index('fecha')\n",
    "        data_plot_varios = data_plot_varios[fecha_min : fecha_max]\n",
    "        scaler = MinMaxScaler()\n",
    "        valores_escalados = scaler.fit_transform(data_plot_varios)\n",
    "        data_plot_varios.loc[:,:] = valores_escalados\n",
    "        data_plot_varios.plot(title=('Estacion ' + str(codigo_estacion) + ', columnas normalizadas [0,1]'), figsize=(10,5))\n",
    "    except:\n",
    "        print(\"Ocurrió un error, por favor revisa los inputs\")\n",
    "        print(time_plot_estaciones_varias_columnas.__doc__)"
   ]
  },
  {
   "cell_type": "code",
   "execution_count": 20,
   "metadata": {},
   "outputs": [
    {
     "data": {
      "image/png": "[encoded data removed]",
      "text/plain": [
       "<Figure size 720x360 with 1 Axes>"
      ]
     },
     "metadata": {
      "needs_background": "light"
     },
     "output_type": "display_data"
    }
   ],
   "source": [
    "time_plot_estaciones_varias_columnas(11335002, [\"caudal\", \"temp_max_promedio\", \"precip_promedio\"], '2017-01-01' , '2017-07-01' )"
   ]
  },
  {
   "cell_type": "markdown",
   "metadata": {},
   "source": [
    "# Creación de variables"
   ]
  },
  {
   "cell_type": "code",
   "execution_count": 21,
   "metadata": {
    "scrolled": false
   },
   "outputs": [],
   "source": [
    "# Creando variables para mes y año\n",
    "df['mes'] = pd.DatetimeIndex(df['fecha']).month\n",
    "df['ano'] = pd.DatetimeIndex(df['fecha']).year\n",
    "# Creando variables para extremos y llenando con NaN donde existían anteriormente\n",
    "df['caudal_extremo'] = 0\n",
    "df['temp_extremo'] = 0\n",
    "df['precip_extremo'] = 0\n",
    "df['temp_extremo'][df['temp_max_promedio'].isna()] = np.NaN\n",
    "df['precip_extremo'][df['precip_promedio'].isna()] = np.NaN"
   ]
  },
  {
   "cell_type": "code",
   "execution_count": 22,
   "metadata": {},
   "outputs": [],
   "source": [
    "# Creando variable para estacion\n",
    "df['estacion'] = \"\""
   ]
  },
  {
   "cell_type": "code",
   "execution_count": 23,
   "metadata": {},
   "outputs": [],
   "source": [
    "# Asignando estacion a cada mes, hice un supuesto para simplificar la asignación \n",
    "# por lo que considero que la estación comienza en el 1ero de cada mes y no el equinoccio\n",
    "\n",
    "df['estacion'][df['mes'] == 1] = 'verano'\n",
    "df['estacion'][df['mes'] == 2] = 'verano'\n",
    "df['estacion'][df['mes'] == 3] = 'verano'\n",
    "df['estacion'][df['mes'] == 4] = 'otono'\n",
    "df['estacion'][df['mes'] == 5] = 'otono'\n",
    "df['estacion'][df['mes'] == 6] = 'otono'\n",
    "df['estacion'][df['mes'] == 7] = 'invierno'\n",
    "df['estacion'][df['mes'] == 8] = 'invierno'\n",
    "df['estacion'][df['mes'] == 9] = 'invierno'\n",
    "df['estacion'][df['mes'] == 10] = 'primavera'\n",
    "df['estacion'][df['mes'] == 11] = 'primavera'\n",
    "df['estacion'][df['mes'] == 12] = 'primavera'"
   ]
  },
  {
   "cell_type": "code",
   "execution_count": 24,
   "metadata": {},
   "outputs": [],
   "source": [
    "# creando tabla auxiliar con cálculos de p95 para cada estación y cada época\n",
    "estaciones = df.codigo_estacion.unique()\n",
    "seasons = [\"verano\"] * 133 + [\"otono\"] * 133 + [\"invierno\"] * 133 + [\"primavera\"] * 133\n",
    "\n",
    "aux = pd.DataFrame(list(zip(list(estaciones) * 4, seasons)), \n",
    "               columns =['codigo_estacion', 'estacion']) \n",
    "\n",
    "aux['p95_caudal'] = 0\n",
    "aux['p95_temp'] = 0\n",
    "aux['p95_precp'] = 0\n",
    "\n",
    "\n",
    "for i in estaciones:\n",
    "    # calculo caudal\n",
    "    per_caudal_verano = df['caudal'][(df['codigo_estacion'] == i) & ((df['mes'] == 1) | (df['mes'] == 2) | (df['mes'] == 3))].quantile(0.95)\n",
    "    per_caudal_otono = df['caudal'][(df['codigo_estacion'] == i) & ((df['mes'] == 4) | (df['mes'] == 5) | (df['mes'] == 6))].quantile(0.95)\n",
    "    per_caudal_invierno = df['caudal'][(df['codigo_estacion'] == i) & ((df['mes'] == 7) | (df['mes'] == 8) | (df['mes'] == 9))].quantile(0.95)\n",
    "    per_caudal_primavera = df['caudal'][(df['codigo_estacion'] == i) & ((df['mes'] == 10) | (df['mes'] == 11) | (df['mes'] == 12))].quantile(0.95)\n",
    "    aux['p95_caudal'][(aux['codigo_estacion'] == i) & (aux['estacion'] == 'verano')] = per_caudal_verano \n",
    "    aux['p95_caudal'][(aux['codigo_estacion'] == i) & (aux['estacion'] == 'otono')] = per_caudal_otono\n",
    "    aux['p95_caudal'][(aux['codigo_estacion'] == i) & (aux['estacion'] == 'invierno')] = per_caudal_invierno\n",
    "    aux['p95_caudal'][(aux['codigo_estacion'] == i) & (aux['estacion'] == 'primavera')] = per_caudal_primavera\n",
    "    # calculo temperatura\n",
    "    per_temp_verano = df['temp_max_promedio'][(df['codigo_estacion'] == i) & ((df['mes'] == 1) | (df['mes'] == 2) | (df['mes'] == 3))].quantile(0.95)\n",
    "    per_temp_otono = df['temp_max_promedio'][(df['codigo_estacion'] == i) & ((df['mes'] == 4) | (df['mes'] == 5) | (df['mes'] == 6))].quantile(0.95)\n",
    "    per_temp_invierno = df['temp_max_promedio'][(df['codigo_estacion'] == i) & ((df['mes'] == 7) | (df['mes'] == 8) | (df['mes'] == 9))].quantile(0.95)\n",
    "    per_temp_primavera = df['temp_max_promedio'][(df['codigo_estacion'] == i) & ((df['mes'] == 10) | (df['mes'] == 11) | (df['mes'] == 12))].quantile(0.95)\n",
    "    aux['p95_temp'][(aux['codigo_estacion'] == i) & (aux['estacion'] == 'verano')] = per_temp_verano \n",
    "    aux['p95_temp'][(aux['codigo_estacion'] == i) & (aux['estacion'] == 'otono')] = per_temp_otono\n",
    "    aux['p95_temp'][(aux['codigo_estacion'] == i) & (aux['estacion'] == 'invierno')] = per_temp_invierno\n",
    "    aux['p95_temp'][(aux['codigo_estacion'] == i) & (aux['estacion'] == 'primavera')] = per_temp_primavera\n",
    "    # calculo precipitacion\n",
    "    per_precp_verano = df['precip_promedio'][(df['codigo_estacion'] == i) & ((df['mes'] == 1) | (df['mes'] == 2) | (df['mes'] == 3))].quantile(0.95)\n",
    "    per_precp_otono = df['precip_promedio'][(df['codigo_estacion'] == i) & ((df['mes'] == 4) | (df['mes'] == 5) | (df['mes'] == 6))].quantile(0.95)\n",
    "    per_precp_invierno = df['precip_promedio'][(df['codigo_estacion'] == i) & ((df['mes'] == 7) | (df['mes'] == 8) | (df['mes'] == 9))].quantile(0.95)\n",
    "    per_precp_primavera = df['precip_promedio'][(df['codigo_estacion'] == i) & ((df['mes'] == 10) | (df['mes'] == 11) | (df['mes'] == 12))].quantile(0.95)\n",
    "    aux['p95_precp'][(aux['codigo_estacion'] == i) & (aux['estacion'] == 'verano')] = per_precp_verano \n",
    "    aux['p95_precp'][(aux['codigo_estacion'] == i) & (aux['estacion'] == 'otono')] = per_precp_otono\n",
    "    aux['p95_precp'][(aux['codigo_estacion'] == i) & (aux['estacion'] == 'invierno')] = per_precp_invierno\n",
    "    aux['p95_precp'][(aux['codigo_estacion'] == i) & (aux['estacion'] == 'primavera')] = per_precp_primavera\n",
    "    \n",
    "    "
   ]
  },
  {
   "cell_type": "code",
   "execution_count": 25,
   "metadata": {},
   "outputs": [
    {
     "data": {
      "text/html": [
       "<div>\n",
       "<style scoped>\n",
       "    .dataframe tbody tr th:only-of-type {\n",
       "        vertical-align: middle;\n",
       "    }\n",
       "\n",
       "    .dataframe tbody tr th {\n",
       "        vertical-align: top;\n",
       "    }\n",
       "\n",
       "    .dataframe thead th {\n",
       "        text-align: right;\n",
       "    }\n",
       "</style>\n",
       "<table border=\"1\" class=\"dataframe\">\n",
       "  <thead>\n",
       "    <tr style=\"text-align: right;\">\n",
       "      <th></th>\n",
       "      <th>codigo_estacion</th>\n",
       "      <th>estacion</th>\n",
       "      <th>p95_caudal</th>\n",
       "      <th>p95_temp</th>\n",
       "      <th>p95_precp</th>\n",
       "    </tr>\n",
       "  </thead>\n",
       "  <tbody>\n",
       "    <tr>\n",
       "      <th>0</th>\n",
       "      <td>4540001</td>\n",
       "      <td>verano</td>\n",
       "      <td>18.025</td>\n",
       "      <td>30.975000</td>\n",
       "      <td>0.000000</td>\n",
       "    </tr>\n",
       "    <tr>\n",
       "      <th>1</th>\n",
       "      <td>10414001</td>\n",
       "      <td>verano</td>\n",
       "      <td>89.235</td>\n",
       "      <td>25.750000</td>\n",
       "      <td>18.270000</td>\n",
       "    </tr>\n",
       "    <tr>\n",
       "      <th>2</th>\n",
       "      <td>11040001</td>\n",
       "      <td>verano</td>\n",
       "      <td>1493.100</td>\n",
       "      <td>29.100000</td>\n",
       "      <td>20.361500</td>\n",
       "    </tr>\n",
       "    <tr>\n",
       "      <th>3</th>\n",
       "      <td>6019003</td>\n",
       "      <td>verano</td>\n",
       "      <td>167.000</td>\n",
       "      <td>32.599998</td>\n",
       "      <td>0.077094</td>\n",
       "    </tr>\n",
       "    <tr>\n",
       "      <th>4</th>\n",
       "      <td>11530000</td>\n",
       "      <td>verano</td>\n",
       "      <td>829.000</td>\n",
       "      <td>28.210001</td>\n",
       "      <td>6.147000</td>\n",
       "    </tr>\n",
       "  </tbody>\n",
       "</table>\n",
       "</div>"
      ],
      "text/plain": [
       "   codigo_estacion estacion  p95_caudal   p95_temp  p95_precp\n",
       "0          4540001   verano      18.025  30.975000   0.000000\n",
       "1         10414001   verano      89.235  25.750000  18.270000\n",
       "2         11040001   verano    1493.100  29.100000  20.361500\n",
       "3          6019003   verano     167.000  32.599998   0.077094\n",
       "4         11530000   verano     829.000  28.210001   6.147000"
      ]
     },
     "execution_count": 25,
     "metadata": {},
     "output_type": "execute_result"
    }
   ],
   "source": [
    "aux.head(5)"
   ]
  },
  {
   "cell_type": "markdown",
   "metadata": {},
   "source": [
    "Combinaremos la tabla anterior con la data original para comparar la medidas del dia con las medidas extremas por estación del año"
   ]
  },
  {
   "cell_type": "code",
   "execution_count": 26,
   "metadata": {},
   "outputs": [
    {
     "data": {
      "text/html": [
       "<div>\n",
       "<style scoped>\n",
       "    .dataframe tbody tr th:only-of-type {\n",
       "        vertical-align: middle;\n",
       "    }\n",
       "\n",
       "    .dataframe tbody tr th {\n",
       "        vertical-align: top;\n",
       "    }\n",
       "\n",
       "    .dataframe thead th {\n",
       "        text-align: right;\n",
       "    }\n",
       "</style>\n",
       "<table border=\"1\" class=\"dataframe\">\n",
       "  <thead>\n",
       "    <tr style=\"text-align: right;\">\n",
       "      <th></th>\n",
       "      <th>codigo_estacion</th>\n",
       "      <th>fecha</th>\n",
       "      <th>caudal</th>\n",
       "      <th>precip_promedio</th>\n",
       "      <th>temp_max_promedio</th>\n",
       "      <th>mes</th>\n",
       "      <th>ano</th>\n",
       "      <th>caudal_extremo</th>\n",
       "      <th>temp_extremo</th>\n",
       "      <th>precip_extremo</th>\n",
       "      <th>estacion</th>\n",
       "      <th>p95_caudal</th>\n",
       "      <th>p95_temp</th>\n",
       "      <th>p95_precp</th>\n",
       "    </tr>\n",
       "  </thead>\n",
       "  <tbody>\n",
       "    <tr>\n",
       "      <th>0</th>\n",
       "      <td>4540001</td>\n",
       "      <td>1960-01-06</td>\n",
       "      <td>0.812</td>\n",
       "      <td>0.0</td>\n",
       "      <td>NaN</td>\n",
       "      <td>1</td>\n",
       "      <td>1960</td>\n",
       "      <td>0</td>\n",
       "      <td>NaN</td>\n",
       "      <td>0.0</td>\n",
       "      <td>verano</td>\n",
       "      <td>18.025</td>\n",
       "      <td>30.975</td>\n",
       "      <td>0.0</td>\n",
       "    </tr>\n",
       "    <tr>\n",
       "      <th>1</th>\n",
       "      <td>4540001</td>\n",
       "      <td>1960-03-27</td>\n",
       "      <td>0.236</td>\n",
       "      <td>0.0</td>\n",
       "      <td>NaN</td>\n",
       "      <td>3</td>\n",
       "      <td>1960</td>\n",
       "      <td>0</td>\n",
       "      <td>NaN</td>\n",
       "      <td>0.0</td>\n",
       "      <td>verano</td>\n",
       "      <td>18.025</td>\n",
       "      <td>30.975</td>\n",
       "      <td>0.0</td>\n",
       "    </tr>\n",
       "    <tr>\n",
       "      <th>2</th>\n",
       "      <td>4540001</td>\n",
       "      <td>1961-01-14</td>\n",
       "      <td>0.652</td>\n",
       "      <td>0.0</td>\n",
       "      <td>NaN</td>\n",
       "      <td>1</td>\n",
       "      <td>1961</td>\n",
       "      <td>0</td>\n",
       "      <td>NaN</td>\n",
       "      <td>0.0</td>\n",
       "      <td>verano</td>\n",
       "      <td>18.025</td>\n",
       "      <td>30.975</td>\n",
       "      <td>0.0</td>\n",
       "    </tr>\n",
       "    <tr>\n",
       "      <th>3</th>\n",
       "      <td>4540001</td>\n",
       "      <td>1961-01-28</td>\n",
       "      <td>4.300</td>\n",
       "      <td>0.0</td>\n",
       "      <td>NaN</td>\n",
       "      <td>1</td>\n",
       "      <td>1961</td>\n",
       "      <td>0</td>\n",
       "      <td>NaN</td>\n",
       "      <td>0.0</td>\n",
       "      <td>verano</td>\n",
       "      <td>18.025</td>\n",
       "      <td>30.975</td>\n",
       "      <td>0.0</td>\n",
       "    </tr>\n",
       "    <tr>\n",
       "      <th>4</th>\n",
       "      <td>4540001</td>\n",
       "      <td>1964-02-07</td>\n",
       "      <td>23.000</td>\n",
       "      <td>0.0</td>\n",
       "      <td>NaN</td>\n",
       "      <td>2</td>\n",
       "      <td>1964</td>\n",
       "      <td>0</td>\n",
       "      <td>NaN</td>\n",
       "      <td>0.0</td>\n",
       "      <td>verano</td>\n",
       "      <td>18.025</td>\n",
       "      <td>30.975</td>\n",
       "      <td>0.0</td>\n",
       "    </tr>\n",
       "  </tbody>\n",
       "</table>\n",
       "</div>"
      ],
      "text/plain": [
       "   codigo_estacion      fecha  caudal  precip_promedio  temp_max_promedio  \\\n",
       "0          4540001 1960-01-06   0.812              0.0                NaN   \n",
       "1          4540001 1960-03-27   0.236              0.0                NaN   \n",
       "2          4540001 1961-01-14   0.652              0.0                NaN   \n",
       "3          4540001 1961-01-28   4.300              0.0                NaN   \n",
       "4          4540001 1964-02-07  23.000              0.0                NaN   \n",
       "\n",
       "   mes   ano  caudal_extremo  temp_extremo  precip_extremo estacion  \\\n",
       "0    1  1960               0           NaN             0.0   verano   \n",
       "1    3  1960               0           NaN             0.0   verano   \n",
       "2    1  1961               0           NaN             0.0   verano   \n",
       "3    1  1961               0           NaN             0.0   verano   \n",
       "4    2  1964               0           NaN             0.0   verano   \n",
       "\n",
       "   p95_caudal  p95_temp  p95_precp  \n",
       "0      18.025    30.975        0.0  \n",
       "1      18.025    30.975        0.0  \n",
       "2      18.025    30.975        0.0  \n",
       "3      18.025    30.975        0.0  \n",
       "4      18.025    30.975        0.0  "
      ]
     },
     "execution_count": 26,
     "metadata": {},
     "output_type": "execute_result"
    }
   ],
   "source": [
    "merged = df.merge(aux, on=['codigo_estacion', 'estacion'], how='right')\n",
    "merged.head(5)"
   ]
  },
  {
   "cell_type": "code",
   "execution_count": 27,
   "metadata": {},
   "outputs": [],
   "source": [
    "# si la medida diaria es mas alta que la medida del percentil 95, marcar como evento extremo\n",
    "merged['caudal_extremo'][merged['caudal'] > merged['p95_caudal']] = 1\n",
    "merged['temp_extremo'][merged['temp_max_promedio'] > merged['p95_temp']] = 1\n",
    "merged['precip_extremo'][merged['precip_promedio'] > merged['p95_precp']] = 1"
   ]
  },
  {
   "cell_type": "markdown",
   "metadata": {},
   "source": [
    "Me parece que es una medida razonable para eventos extremos, pero creo que hay un par de factores no capturados, como la relacion geográfica entre caudales, que quizas podría ser relevante. Por otra parte entiendo el hecho de corregir la estacionalidad con las estaciones, pero probablemente un evento extremo en verano no implica ningun tipo de peligro para la sociedad, comparado con un evento extremo en invierno con mayor caudal.  Por último creo que como los caudales son diferentes, podríamos tener una variable como el % de capacidad ocupada del caudal."
   ]
  },
  {
   "cell_type": "markdown",
   "metadata": {},
   "source": [
    "### Analizando caudal extremo"
   ]
  },
  {
   "cell_type": "markdown",
   "metadata": {},
   "source": [
    "Primero analizaremos la frecuencia de ocurrencia de eventos de caudal extremo por cuenca, para ver si existen diferencias."
   ]
  },
  {
   "cell_type": "code",
   "execution_count": 28,
   "metadata": {},
   "outputs": [
    {
     "data": {
      "text/html": [
       "<div>\n",
       "<style scoped>\n",
       "    .dataframe tbody tr th:only-of-type {\n",
       "        vertical-align: middle;\n",
       "    }\n",
       "\n",
       "    .dataframe tbody tr th {\n",
       "        vertical-align: top;\n",
       "    }\n",
       "\n",
       "    .dataframe thead th {\n",
       "        text-align: right;\n",
       "    }\n",
       "</style>\n",
       "<table border=\"1\" class=\"dataframe\">\n",
       "  <thead>\n",
       "    <tr style=\"text-align: right;\">\n",
       "      <th></th>\n",
       "      <th>codigo_estacion</th>\n",
       "      <th>caudal_extremo_count</th>\n",
       "      <th>caudal_Count</th>\n",
       "      <th>extremos_relativo</th>\n",
       "    </tr>\n",
       "  </thead>\n",
       "  <tbody>\n",
       "    <tr>\n",
       "      <th>0</th>\n",
       "      <td>1020003</td>\n",
       "      <td>610</td>\n",
       "      <td>12194</td>\n",
       "      <td>0.050025</td>\n",
       "    </tr>\n",
       "    <tr>\n",
       "      <th>1</th>\n",
       "      <td>1021001</td>\n",
       "      <td>596</td>\n",
       "      <td>12043</td>\n",
       "      <td>0.049489</td>\n",
       "    </tr>\n",
       "    <tr>\n",
       "      <th>2</th>\n",
       "      <td>1050004</td>\n",
       "      <td>550</td>\n",
       "      <td>10943</td>\n",
       "      <td>0.050260</td>\n",
       "    </tr>\n",
       "    <tr>\n",
       "      <th>3</th>\n",
       "      <td>1211001</td>\n",
       "      <td>410</td>\n",
       "      <td>8780</td>\n",
       "      <td>0.046697</td>\n",
       "    </tr>\n",
       "    <tr>\n",
       "      <th>4</th>\n",
       "      <td>2103003</td>\n",
       "      <td>123</td>\n",
       "      <td>2596</td>\n",
       "      <td>0.047381</td>\n",
       "    </tr>\n",
       "    <tr>\n",
       "      <th>5</th>\n",
       "      <td>2104002</td>\n",
       "      <td>655</td>\n",
       "      <td>13159</td>\n",
       "      <td>0.049776</td>\n",
       "    </tr>\n",
       "    <tr>\n",
       "      <th>6</th>\n",
       "      <td>2104003</td>\n",
       "      <td>418</td>\n",
       "      <td>9131</td>\n",
       "      <td>0.045778</td>\n",
       "    </tr>\n",
       "    <tr>\n",
       "      <th>7</th>\n",
       "      <td>2105001</td>\n",
       "      <td>662</td>\n",
       "      <td>13251</td>\n",
       "      <td>0.049958</td>\n",
       "    </tr>\n",
       "    <tr>\n",
       "      <th>8</th>\n",
       "      <td>2105002</td>\n",
       "      <td>676</td>\n",
       "      <td>13495</td>\n",
       "      <td>0.050093</td>\n",
       "    </tr>\n",
       "    <tr>\n",
       "      <th>9</th>\n",
       "      <td>2105005</td>\n",
       "      <td>149</td>\n",
       "      <td>2992</td>\n",
       "      <td>0.049799</td>\n",
       "    </tr>\n",
       "  </tbody>\n",
       "</table>\n",
       "</div>"
      ],
      "text/plain": [
       "   codigo_estacion  caudal_extremo_count  caudal_Count  extremos_relativo\n",
       "0          1020003                   610         12194           0.050025\n",
       "1          1021001                   596         12043           0.049489\n",
       "2          1050004                   550         10943           0.050260\n",
       "3          1211001                   410          8780           0.046697\n",
       "4          2103003                   123          2596           0.047381\n",
       "5          2104002                   655         13159           0.049776\n",
       "6          2104003                   418          9131           0.045778\n",
       "7          2105001                   662         13251           0.049958\n",
       "8          2105002                   676         13495           0.050093\n",
       "9          2105005                   149          2992           0.049799"
      ]
     },
     "execution_count": 28,
     "metadata": {},
     "output_type": "execute_result"
    }
   ],
   "source": [
    "cuenta_extremos = merged[['codigo_estacion', 'caudal_extremo']]\n",
    "cuenta_extremos = cuenta_extremos.groupby('codigo_estacion').sum().add_suffix('_count').reset_index()\n",
    "cuenta_extremos = cuenta_extremos.merge(n_por_estacion, on=['codigo_estacion'], how='right')\\\n",
    "                .drop(columns=['temp_max_promedio_Count', 'precip_promedio_Count'], axis=1)\n",
    "cuenta_extremos['extremos_relativo'] = cuenta_extremos['caudal_extremo_count'] / cuenta_extremos['caudal_Count']\n",
    "cuenta_extremos.head(10)"
   ]
  },
  {
   "cell_type": "code",
   "execution_count": 29,
   "metadata": {},
   "outputs": [
    {
     "data": {
      "text/plain": [
       "<matplotlib.axes._subplots.AxesSubplot at 0x1a1a32a7f0>"
      ]
     },
     "execution_count": 29,
     "metadata": {},
     "output_type": "execute_result"
    },
    {
     "data": {
      "image/png": "[encoded data removed]",
      "text/plain": [
       "<Figure size 432x288 with 1 Axes>"
      ]
     },
     "metadata": {
      "needs_background": "light"
     },
     "output_type": "display_data"
    }
   ],
   "source": [
    "plt.title('Histograma de frecuencia  de eventos por cuenca')\n",
    "cuenta_extremos['caudal_extremo_count'].hist()"
   ]
  },
  {
   "cell_type": "code",
   "execution_count": 30,
   "metadata": {},
   "outputs": [
    {
     "data": {
      "text/plain": [
       "<matplotlib.axes._subplots.AxesSubplot at 0x1a1950bf60>"
      ]
     },
     "execution_count": 30,
     "metadata": {},
     "output_type": "execute_result"
    },
    {
     "data": {
      "image/png": "[encoded data removed]",
      "text/plain": [
       "<Figure size 432x288 with 1 Axes>"
      ]
     },
     "metadata": {
      "needs_background": "light"
     },
     "output_type": "display_data"
    }
   ],
   "source": [
    "plt.title('Histograma de frecuencia relativa de eventos por cuenca')\n",
    "cuenta_extremos['extremos_relativo'].hist()"
   ]
  },
  {
   "cell_type": "markdown",
   "metadata": {},
   "source": [
    "A primera vista si vemos sólo la frecuencia de los eventos extremos, podriamos concluir que existen cuencas que tienen mas probabilidad de tener este tipo de eventos de caudal, pero cuando ajustamos por la cantidad de observaciones que tiene cada estación, entonces vemos que es obvio que esta medida está muy cercana al 5% para todas las estaciones por que es la forma por la cual se construyó la variable. \n",
    "\n",
    "Por eso para analizar diferencias entre cuencas debemos ver por ejemplo cual es el promedio del caudal **dado** que hubo un evento de caudal extremo en una cuenca"
   ]
  },
  {
   "cell_type": "code",
   "execution_count": 31,
   "metadata": {},
   "outputs": [
    {
     "data": {
      "text/html": [
       "<div>\n",
       "<style scoped>\n",
       "    .dataframe tbody tr th:only-of-type {\n",
       "        vertical-align: middle;\n",
       "    }\n",
       "\n",
       "    .dataframe tbody tr th {\n",
       "        vertical-align: top;\n",
       "    }\n",
       "\n",
       "    .dataframe thead th {\n",
       "        text-align: right;\n",
       "    }\n",
       "</style>\n",
       "<table border=\"1\" class=\"dataframe\">\n",
       "  <thead>\n",
       "    <tr style=\"text-align: right;\">\n",
       "      <th></th>\n",
       "      <th>codigo_estacion</th>\n",
       "      <th>caudal_extremo_promedio</th>\n",
       "    </tr>\n",
       "  </thead>\n",
       "  <tbody>\n",
       "    <tr>\n",
       "      <th>0</th>\n",
       "      <td>1020003</td>\n",
       "      <td>1.307738</td>\n",
       "    </tr>\n",
       "    <tr>\n",
       "      <th>1</th>\n",
       "      <td>1021001</td>\n",
       "      <td>8.441225</td>\n",
       "    </tr>\n",
       "    <tr>\n",
       "      <th>2</th>\n",
       "      <td>1050004</td>\n",
       "      <td>0.602824</td>\n",
       "    </tr>\n",
       "    <tr>\n",
       "      <th>3</th>\n",
       "      <td>1211001</td>\n",
       "      <td>8.635671</td>\n",
       "    </tr>\n",
       "    <tr>\n",
       "      <th>4</th>\n",
       "      <td>2103003</td>\n",
       "      <td>0.187350</td>\n",
       "    </tr>\n",
       "    <tr>\n",
       "      <th>5</th>\n",
       "      <td>2104002</td>\n",
       "      <td>2.346156</td>\n",
       "    </tr>\n",
       "    <tr>\n",
       "      <th>6</th>\n",
       "      <td>2104003</td>\n",
       "      <td>2.010167</td>\n",
       "    </tr>\n",
       "    <tr>\n",
       "      <th>7</th>\n",
       "      <td>2105001</td>\n",
       "      <td>7.238778</td>\n",
       "    </tr>\n",
       "    <tr>\n",
       "      <th>8</th>\n",
       "      <td>2105002</td>\n",
       "      <td>2.285383</td>\n",
       "    </tr>\n",
       "    <tr>\n",
       "      <th>9</th>\n",
       "      <td>2105005</td>\n",
       "      <td>1.409248</td>\n",
       "    </tr>\n",
       "  </tbody>\n",
       "</table>\n",
       "</div>"
      ],
      "text/plain": [
       "   codigo_estacion  caudal_extremo_promedio\n",
       "0          1020003                 1.307738\n",
       "1          1021001                 8.441225\n",
       "2          1050004                 0.602824\n",
       "3          1211001                 8.635671\n",
       "4          2103003                 0.187350\n",
       "5          2104002                 2.346156\n",
       "6          2104003                 2.010167\n",
       "7          2105001                 7.238778\n",
       "8          2105002                 2.285383\n",
       "9          2105005                 1.409248"
      ]
     },
     "execution_count": 31,
     "metadata": {},
     "output_type": "execute_result"
    }
   ],
   "source": [
    "media_extremos = merged[['codigo_estacion', 'caudal']][merged['caudal_extremo'] == 1]\n",
    "media_extremos = media_extremos.groupby('codigo_estacion').mean().add_suffix('_extremo_promedio').reset_index()\n",
    "media_extremos.head(10)"
   ]
  },
  {
   "cell_type": "code",
   "execution_count": 32,
   "metadata": {},
   "outputs": [
    {
     "data": {
      "text/plain": [
       "count     133.000000\n",
       "mean      345.339330\n",
       "std       545.644268\n",
       "min         0.187350\n",
       "25%        18.543367\n",
       "50%        84.948025\n",
       "75%       536.247196\n",
       "max      3170.915094\n",
       "Name: caudal_extremo_promedio, dtype: float64"
      ]
     },
     "execution_count": 32,
     "metadata": {},
     "output_type": "execute_result"
    }
   ],
   "source": [
    "media_extremos['caudal_extremo_promedio'].describe()"
   ]
  },
  {
   "cell_type": "code",
   "execution_count": 33,
   "metadata": {},
   "outputs": [
    {
     "data": {
      "text/plain": [
       "<matplotlib.axes._subplots.AxesSubplot at 0x1a19653b38>"
      ]
     },
     "execution_count": 33,
     "metadata": {},
     "output_type": "execute_result"
    },
    {
     "data": {
      "image/png": "[encoded data removed]",
      "text/plain": [
       "<Figure size 432x288 with 1 Axes>"
      ]
     },
     "metadata": {
      "needs_background": "light"
     },
     "output_type": "display_data"
    }
   ],
   "source": [
    "plt.title('Histograma del Promedio de caudal de eventos extremos')\n",
    "media_extremos['caudal_extremo_promedio'].hist()"
   ]
  },
  {
   "cell_type": "markdown",
   "metadata": {},
   "source": [
    "Podemos ver la medida de caudal extremo varía mucho entre diferentes cuencas, ya que por ejemplo para el 25% inferior de los eventos de caudal extremo ocurrieron con menos de 18 unidades, pero el 25% estos sólo ocurrieron con mas de 536 unidades. Esto probablemente se debe a condiciones geográficas como el tamaño de la cuenca"
   ]
  },
  {
   "cell_type": "markdown",
   "metadata": {},
   "source": [
    "### Eventos a través del tiempo"
   ]
  },
  {
   "cell_type": "markdown",
   "metadata": {},
   "source": [
    "Creamos una tabla agrupando los eventos ocurridos por año, relativo a la cantidad de observaciones"
   ]
  },
  {
   "cell_type": "code",
   "execution_count": 34,
   "metadata": {},
   "outputs": [
    {
     "data": {
      "text/html": [
       "<div>\n",
       "<style scoped>\n",
       "    .dataframe tbody tr th:only-of-type {\n",
       "        vertical-align: middle;\n",
       "    }\n",
       "\n",
       "    .dataframe tbody tr th {\n",
       "        vertical-align: top;\n",
       "    }\n",
       "\n",
       "    .dataframe thead th {\n",
       "        text-align: right;\n",
       "    }\n",
       "</style>\n",
       "<table border=\"1\" class=\"dataframe\">\n",
       "  <thead>\n",
       "    <tr style=\"text-align: right;\">\n",
       "      <th></th>\n",
       "      <th>ano</th>\n",
       "      <th>caudal_extremo_Sum</th>\n",
       "      <th>temp_extremo_Sum</th>\n",
       "      <th>precip_extremo_Sum</th>\n",
       "      <th>caudal_extremo_Count</th>\n",
       "      <th>temp_extremo_Count</th>\n",
       "      <th>precip_extremo_Count</th>\n",
       "      <th>caudal_porcentual</th>\n",
       "      <th>temp_porcentual</th>\n",
       "      <th>precp_porcentual</th>\n",
       "    </tr>\n",
       "  </thead>\n",
       "  <tbody>\n",
       "    <tr>\n",
       "      <th>0</th>\n",
       "      <td>1960</td>\n",
       "      <td>248</td>\n",
       "      <td>13.0</td>\n",
       "      <td>179.0</td>\n",
       "      <td>9979</td>\n",
       "      <td>307</td>\n",
       "      <td>7884</td>\n",
       "      <td>0.024852</td>\n",
       "      <td>0.042345</td>\n",
       "      <td>0.022704</td>\n",
       "    </tr>\n",
       "    <tr>\n",
       "      <th>1</th>\n",
       "      <td>1961</td>\n",
       "      <td>469</td>\n",
       "      <td>16.0</td>\n",
       "      <td>328.0</td>\n",
       "      <td>9862</td>\n",
       "      <td>344</td>\n",
       "      <td>8048</td>\n",
       "      <td>0.047556</td>\n",
       "      <td>0.046512</td>\n",
       "      <td>0.040755</td>\n",
       "    </tr>\n",
       "    <tr>\n",
       "      <th>2</th>\n",
       "      <td>1962</td>\n",
       "      <td>243</td>\n",
       "      <td>121.0</td>\n",
       "      <td>195.0</td>\n",
       "      <td>11003</td>\n",
       "      <td>2203</td>\n",
       "      <td>9449</td>\n",
       "      <td>0.022085</td>\n",
       "      <td>0.054925</td>\n",
       "      <td>0.020637</td>\n",
       "    </tr>\n",
       "    <tr>\n",
       "      <th>3</th>\n",
       "      <td>1963</td>\n",
       "      <td>884</td>\n",
       "      <td>128.0</td>\n",
       "      <td>709.0</td>\n",
       "      <td>13346</td>\n",
       "      <td>1997</td>\n",
       "      <td>11682</td>\n",
       "      <td>0.066237</td>\n",
       "      <td>0.064096</td>\n",
       "      <td>0.060692</td>\n",
       "    </tr>\n",
       "    <tr>\n",
       "      <th>4</th>\n",
       "      <td>1964</td>\n",
       "      <td>628</td>\n",
       "      <td>102.0</td>\n",
       "      <td>329.0</td>\n",
       "      <td>14150</td>\n",
       "      <td>2726</td>\n",
       "      <td>11937</td>\n",
       "      <td>0.044382</td>\n",
       "      <td>0.037417</td>\n",
       "      <td>0.027561</td>\n",
       "    </tr>\n",
       "  </tbody>\n",
       "</table>\n",
       "</div>"
      ],
      "text/plain": [
       "    ano  caudal_extremo_Sum  temp_extremo_Sum  precip_extremo_Sum  \\\n",
       "0  1960                 248              13.0               179.0   \n",
       "1  1961                 469              16.0               328.0   \n",
       "2  1962                 243             121.0               195.0   \n",
       "3  1963                 884             128.0               709.0   \n",
       "4  1964                 628             102.0               329.0   \n",
       "\n",
       "   caudal_extremo_Count  temp_extremo_Count  precip_extremo_Count  \\\n",
       "0                  9979                 307                  7884   \n",
       "1                  9862                 344                  8048   \n",
       "2                 11003                2203                  9449   \n",
       "3                 13346                1997                 11682   \n",
       "4                 14150                2726                 11937   \n",
       "\n",
       "   caudal_porcentual  temp_porcentual  precp_porcentual  \n",
       "0           0.024852         0.042345          0.022704  \n",
       "1           0.047556         0.046512          0.040755  \n",
       "2           0.022085         0.054925          0.020637  \n",
       "3           0.066237         0.064096          0.060692  \n",
       "4           0.044382         0.037417          0.027561  "
      ]
     },
     "execution_count": 34,
     "metadata": {},
     "output_type": "execute_result"
    }
   ],
   "source": [
    "count_caudal_extremo = merged[['ano', 'caudal_extremo', 'temp_extremo', 'precip_extremo']]\\\n",
    "                    .groupby(['ano']).sum().add_suffix('_Sum').reset_index()\n",
    "total_medidas_caudal = merged[['ano', 'caudal_extremo', 'temp_extremo', 'precip_extremo']]\\\n",
    "                    .groupby(['ano']).count().add_suffix('_Count').reset_index()\n",
    "eventos_relativo = count_caudal_extremo.merge(total_medidas_caudal, on=['ano'], how='right')\n",
    "eventos_relativo['caudal_porcentual'] = eventos_relativo['caudal_extremo_Sum'] / eventos_relativo['caudal_extremo_Count']\n",
    "eventos_relativo['temp_porcentual'] = eventos_relativo['temp_extremo_Sum'] / eventos_relativo['temp_extremo_Count']\n",
    "eventos_relativo['precp_porcentual'] = eventos_relativo['precip_extremo_Sum'] / eventos_relativo['precip_extremo_Count']\n",
    "eventos_relativo.head(5)"
   ]
  },
  {
   "cell_type": "code",
   "execution_count": 35,
   "metadata": {},
   "outputs": [
    {
     "data": {
      "text/plain": [
       "<matplotlib.axes._subplots.AxesSubplot at 0x1a1941a438>"
      ]
     },
     "execution_count": 35,
     "metadata": {},
     "output_type": "execute_result"
    },
    {
     "data": {
      "image/png": "[encoded data removed]",
      "text/plain": [
       "<Figure size 720x360 with 1 Axes>"
      ]
     },
     "metadata": {
      "needs_background": "light"
     },
     "output_type": "display_data"
    }
   ],
   "source": [
    "eventos_relativo[['ano', 'caudal_porcentual', 'temp_porcentual', 'precp_porcentual']].set_index('ano')\\\n",
    "                .plot(title='Porcentaje de eventos extremos por año', figsize=(10,5))"
   ]
  },
  {
   "cell_type": "markdown",
   "metadata": {},
   "source": [
    "Al ver este gráfico relativo de incidentes extremos por año para cada medición, no me parece claro que exista una tendencia para decir que se han vuelto más comunes. Quizás los eventos de temperatura muestran una pequeña alza en el último periódo a partir del 2005, pero los eventos de caudal fueron mucho mas frecuentes en decadas pasadas"
   ]
  },
  {
   "cell_type": "markdown",
   "metadata": {},
   "source": [
    "## Modelando caudal extremo"
   ]
  },
  {
   "cell_type": "markdown",
   "metadata": {},
   "source": [
    "Creare algunas variables que creo se relacionan con el hecho de tener un evento de caudal extremo:\n",
    "* media movil ultimos 3 dias de caudal\n",
    "* media movil ultimos 3 dias de temperatura\n",
    "* media movil ultimos 3 dias de precipitacion\n",
    "* % de eventos de caudal extremo en los ultimos 3 dias\n",
    "* caudal dia anterior\n",
    "* temperatura dia anterior\n",
    "* precipitacion dia anterior\n",
    "* caudal acumulado 3 dias anteriores\n",
    "* precipitacion acumulada 3 dias anteriores\n"
   ]
  },
  {
   "cell_type": "code",
   "execution_count": 36,
   "metadata": {},
   "outputs": [
    {
     "data": {
      "text/html": [
       "<div>\n",
       "<style scoped>\n",
       "    .dataframe tbody tr th:only-of-type {\n",
       "        vertical-align: middle;\n",
       "    }\n",
       "\n",
       "    .dataframe tbody tr th {\n",
       "        vertical-align: top;\n",
       "    }\n",
       "\n",
       "    .dataframe thead th {\n",
       "        text-align: right;\n",
       "    }\n",
       "</style>\n",
       "<table border=\"1\" class=\"dataframe\">\n",
       "  <thead>\n",
       "    <tr style=\"text-align: right;\">\n",
       "      <th></th>\n",
       "      <th>codigo_estacion</th>\n",
       "      <th>caudal</th>\n",
       "      <th>precip_promedio</th>\n",
       "      <th>temp_max_promedio</th>\n",
       "      <th>mes</th>\n",
       "      <th>ano</th>\n",
       "      <th>caudal_extremo</th>\n",
       "      <th>temp_extremo</th>\n",
       "      <th>precip_extremo</th>\n",
       "      <th>estacion</th>\n",
       "      <th>...</th>\n",
       "      <th>p95_precp</th>\n",
       "      <th>moving_caudal</th>\n",
       "      <th>moving_temp</th>\n",
       "      <th>moving_precp</th>\n",
       "      <th>dia_anterior_caudal</th>\n",
       "      <th>dia_anterior_temp</th>\n",
       "      <th>dia_anterior_precp</th>\n",
       "      <th>pct_caudal_extremo</th>\n",
       "      <th>caudal_acumulado</th>\n",
       "      <th>precp_acumulado</th>\n",
       "    </tr>\n",
       "    <tr>\n",
       "      <th>fecha</th>\n",
       "      <th></th>\n",
       "      <th></th>\n",
       "      <th></th>\n",
       "      <th></th>\n",
       "      <th></th>\n",
       "      <th></th>\n",
       "      <th></th>\n",
       "      <th></th>\n",
       "      <th></th>\n",
       "      <th></th>\n",
       "      <th></th>\n",
       "      <th></th>\n",
       "      <th></th>\n",
       "      <th></th>\n",
       "      <th></th>\n",
       "      <th></th>\n",
       "      <th></th>\n",
       "      <th></th>\n",
       "      <th></th>\n",
       "      <th></th>\n",
       "      <th></th>\n",
       "    </tr>\n",
       "  </thead>\n",
       "  <tbody>\n",
       "    <tr>\n",
       "      <th>1960-01-02</th>\n",
       "      <td>4308001</td>\n",
       "      <td>3.78</td>\n",
       "      <td>0.0</td>\n",
       "      <td>NaN</td>\n",
       "      <td>1</td>\n",
       "      <td>1960</td>\n",
       "      <td>0</td>\n",
       "      <td>NaN</td>\n",
       "      <td>0.0</td>\n",
       "      <td>verano</td>\n",
       "      <td>...</td>\n",
       "      <td>0.00000</td>\n",
       "      <td>NaN</td>\n",
       "      <td>NaN</td>\n",
       "      <td>NaN</td>\n",
       "      <td>NaN</td>\n",
       "      <td>NaN</td>\n",
       "      <td>NaN</td>\n",
       "      <td>NaN</td>\n",
       "      <td>NaN</td>\n",
       "      <td>NaN</td>\n",
       "    </tr>\n",
       "    <tr>\n",
       "      <th>1960-01-02</th>\n",
       "      <td>8132001</td>\n",
       "      <td>1.10</td>\n",
       "      <td>0.0</td>\n",
       "      <td>NaN</td>\n",
       "      <td>1</td>\n",
       "      <td>1960</td>\n",
       "      <td>0</td>\n",
       "      <td>NaN</td>\n",
       "      <td>0.0</td>\n",
       "      <td>verano</td>\n",
       "      <td>...</td>\n",
       "      <td>5.71100</td>\n",
       "      <td>NaN</td>\n",
       "      <td>NaN</td>\n",
       "      <td>NaN</td>\n",
       "      <td>NaN</td>\n",
       "      <td>NaN</td>\n",
       "      <td>NaN</td>\n",
       "      <td>NaN</td>\n",
       "      <td>NaN</td>\n",
       "      <td>NaN</td>\n",
       "    </tr>\n",
       "    <tr>\n",
       "      <th>1960-01-02</th>\n",
       "      <td>9123001</td>\n",
       "      <td>59.00</td>\n",
       "      <td>NaN</td>\n",
       "      <td>NaN</td>\n",
       "      <td>1</td>\n",
       "      <td>1960</td>\n",
       "      <td>0</td>\n",
       "      <td>NaN</td>\n",
       "      <td>NaN</td>\n",
       "      <td>verano</td>\n",
       "      <td>...</td>\n",
       "      <td>13.87000</td>\n",
       "      <td>NaN</td>\n",
       "      <td>NaN</td>\n",
       "      <td>NaN</td>\n",
       "      <td>NaN</td>\n",
       "      <td>NaN</td>\n",
       "      <td>NaN</td>\n",
       "      <td>NaN</td>\n",
       "      <td>NaN</td>\n",
       "      <td>NaN</td>\n",
       "    </tr>\n",
       "    <tr>\n",
       "      <th>1960-01-02</th>\n",
       "      <td>4558001</td>\n",
       "      <td>0.32</td>\n",
       "      <td>0.0</td>\n",
       "      <td>NaN</td>\n",
       "      <td>1</td>\n",
       "      <td>1960</td>\n",
       "      <td>0</td>\n",
       "      <td>NaN</td>\n",
       "      <td>0.0</td>\n",
       "      <td>verano</td>\n",
       "      <td>...</td>\n",
       "      <td>0.00000</td>\n",
       "      <td>NaN</td>\n",
       "      <td>NaN</td>\n",
       "      <td>NaN</td>\n",
       "      <td>NaN</td>\n",
       "      <td>NaN</td>\n",
       "      <td>NaN</td>\n",
       "      <td>NaN</td>\n",
       "      <td>NaN</td>\n",
       "      <td>NaN</td>\n",
       "    </tr>\n",
       "    <tr>\n",
       "      <th>1960-01-02</th>\n",
       "      <td>2110002</td>\n",
       "      <td>3.60</td>\n",
       "      <td>NaN</td>\n",
       "      <td>NaN</td>\n",
       "      <td>1</td>\n",
       "      <td>1960</td>\n",
       "      <td>1</td>\n",
       "      <td>NaN</td>\n",
       "      <td>NaN</td>\n",
       "      <td>verano</td>\n",
       "      <td>...</td>\n",
       "      <td>3.30317</td>\n",
       "      <td>NaN</td>\n",
       "      <td>NaN</td>\n",
       "      <td>NaN</td>\n",
       "      <td>NaN</td>\n",
       "      <td>NaN</td>\n",
       "      <td>NaN</td>\n",
       "      <td>NaN</td>\n",
       "      <td>NaN</td>\n",
       "      <td>NaN</td>\n",
       "    </tr>\n",
       "  </tbody>\n",
       "</table>\n",
       "<p>5 rows × 22 columns</p>\n",
       "</div>"
      ],
      "text/plain": [
       "            codigo_estacion  caudal  precip_promedio  temp_max_promedio  mes  \\\n",
       "fecha                                                                          \n",
       "1960-01-02          4308001    3.78              0.0                NaN    1   \n",
       "1960-01-02          8132001    1.10              0.0                NaN    1   \n",
       "1960-01-02          9123001   59.00              NaN                NaN    1   \n",
       "1960-01-02          4558001    0.32              0.0                NaN    1   \n",
       "1960-01-02          2110002    3.60              NaN                NaN    1   \n",
       "\n",
       "             ano  caudal_extremo  temp_extremo  precip_extremo estacion  ...  \\\n",
       "fecha                                                                    ...   \n",
       "1960-01-02  1960               0           NaN             0.0   verano  ...   \n",
       "1960-01-02  1960               0           NaN             0.0   verano  ...   \n",
       "1960-01-02  1960               0           NaN             NaN   verano  ...   \n",
       "1960-01-02  1960               0           NaN             0.0   verano  ...   \n",
       "1960-01-02  1960               1           NaN             NaN   verano  ...   \n",
       "\n",
       "            p95_precp  moving_caudal  moving_temp  moving_precp  \\\n",
       "fecha                                                             \n",
       "1960-01-02    0.00000            NaN          NaN           NaN   \n",
       "1960-01-02    5.71100            NaN          NaN           NaN   \n",
       "1960-01-02   13.87000            NaN          NaN           NaN   \n",
       "1960-01-02    0.00000            NaN          NaN           NaN   \n",
       "1960-01-02    3.30317            NaN          NaN           NaN   \n",
       "\n",
       "            dia_anterior_caudal  dia_anterior_temp  dia_anterior_precp  \\\n",
       "fecha                                                                    \n",
       "1960-01-02                  NaN                NaN                 NaN   \n",
       "1960-01-02                  NaN                NaN                 NaN   \n",
       "1960-01-02                  NaN                NaN                 NaN   \n",
       "1960-01-02                  NaN                NaN                 NaN   \n",
       "1960-01-02                  NaN                NaN                 NaN   \n",
       "\n",
       "            pct_caudal_extremo  caudal_acumulado  precp_acumulado  \n",
       "fecha                                                              \n",
       "1960-01-02                 NaN               NaN              NaN  \n",
       "1960-01-02                 NaN               NaN              NaN  \n",
       "1960-01-02                 NaN               NaN              NaN  \n",
       "1960-01-02                 NaN               NaN              NaN  \n",
       "1960-01-02                 NaN               NaN              NaN  \n",
       "\n",
       "[5 rows x 22 columns]"
      ]
     },
     "execution_count": 36,
     "metadata": {},
     "output_type": "execute_result"
    }
   ],
   "source": [
    "# creacion de variables\n",
    "\n",
    "merged = merged.set_index('fecha').sort_index()\n",
    "\n",
    "merged['moving_caudal'] = merged.groupby('codigo_estacion')['caudal'].transform(lambda x: x.rolling(3, 3)\\\n",
    "                                                                                .mean().shift(1))\n",
    "merged['moving_temp'] = merged.groupby('codigo_estacion')['temp_max_promedio'].transform(lambda x: x.rolling(3, 3)\\\n",
    "                                                                                .mean().shift(1))\n",
    "merged['moving_precp'] = merged.groupby('codigo_estacion')['precip_promedio'].transform(lambda x: x.rolling(3, 3)\\\n",
    "                                                                               .mean().shift(1))\n",
    "merged['dia_anterior_caudal'] = merged.groupby('codigo_estacion')['caudal'].transform(lambda x: x.rolling(1, 1)\\\n",
    "                                                                                .mean().shift(1))\n",
    "merged['dia_anterior_temp'] = merged.groupby('codigo_estacion')['temp_max_promedio'].transform(lambda x: x.rolling(1, 1)\\\n",
    "                                                                                .mean().shift(1))\n",
    "merged['dia_anterior_precp'] = merged.groupby('codigo_estacion')['precip_promedio'].transform(lambda x: x.rolling(1, 1)\\\n",
    "                                                                                .mean().shift(1))\n",
    "\n",
    "merged['pct_caudal_extremo'] = merged.groupby('codigo_estacion')['caudal_extremo'].transform(lambda x: x.rolling(3, 3)\\\n",
    "                                                                                .mean().shift(1))\n",
    "\n",
    "merged['caudal_acumulado'] = merged.groupby('codigo_estacion')['caudal'].transform(lambda x: x.rolling(3, 3)\\\n",
    "                                                                                .sum().shift(1))\n",
    "\n",
    "merged['precp_acumulado'] = merged.groupby('codigo_estacion')['precip_promedio'].transform(lambda x: x.rolling(3, 3)\\\n",
    "                                                                                .sum().shift(1))\n",
    "merged.head(5)"
   ]
  },
  {
   "cell_type": "markdown",
   "metadata": {},
   "source": [
    "Crearemos nuestro dataframe para entrenamiento y eliminaremos las filas con NaN"
   ]
  },
  {
   "cell_type": "code",
   "execution_count": 37,
   "metadata": {},
   "outputs": [
    {
     "data": {
      "text/plain": [
       "1411180"
      ]
     },
     "execution_count": 37,
     "metadata": {},
     "output_type": "execute_result"
    }
   ],
   "source": [
    "len(merged)"
   ]
  },
  {
   "cell_type": "code",
   "execution_count": 38,
   "metadata": {},
   "outputs": [
    {
     "data": {
      "text/plain": [
       "1243716"
      ]
     },
     "execution_count": 38,
     "metadata": {},
     "output_type": "execute_result"
    }
   ],
   "source": [
    "dataset = merged[[ 'caudal', 'precip_promedio', 'temp_max_promedio',\n",
    "       'caudal_extremo', 'estacion', 'p95_caudal', 'p95_temp',\n",
    "       'p95_precp', 'moving_caudal', 'moving_temp', 'moving_precp', \n",
    "       'dia_anterior_caudal', 'dia_anterior_temp', 'dia_anterior_precp', \n",
    "       'pct_caudal_extremo', 'caudal_acumulado', 'precp_acumulado']] \n",
    "\n",
    "dataset = dataset.dropna(axis=0)\n",
    "len(dataset)"
   ]
  },
  {
   "cell_type": "code",
   "execution_count": 39,
   "metadata": {},
   "outputs": [
    {
     "data": {
      "text/plain": [
       "0    1181415\n",
       "1      62301\n",
       "Name: caudal_extremo, dtype: int64"
      ]
     },
     "execution_count": 39,
     "metadata": {},
     "output_type": "execute_result"
    }
   ],
   "source": [
    "dataset.caudal_extremo.value_counts()"
   ]
  },
  {
   "cell_type": "markdown",
   "metadata": {},
   "source": [
    "Tenemos un dataset muy desbalanceado donde solo tenemos 5% de eventos extremos, por lo que accuracy no es una metrica muy efectiva (si marcaramos todo como No Extremo lograriamos 95% de efectividad).\n",
    "\n",
    "Por eso deberemos explorar metricas como precision y recall para ver si el modelo efectivamente logra reconocer los eventos extremos\n"
   ]
  },
  {
   "cell_type": "markdown",
   "metadata": {},
   "source": [
    "Ademas eliminaremos las medidas del mismo dia ya que si queremos predecir para el futuro es data que no está disponible. El modelo usa las siguientes features:\n",
    "\n",
    "* promedio ultimos 3 dias caudal\n",
    "* promedio ultimos 3 dias temperatura\n",
    "* promedio ultimos 3 dias precipitacion\n",
    "* caudal dia anterior\n",
    "* temp max dia anterior\n",
    "* precipitacion dia anterior\n",
    "* caudal acumulado ultimos 3 dias\n",
    "* precipitacion acumulada ultimos 3 dias\n",
    "* porcentaje de eventos de caudal extremos en los ultimos 7 dias\n",
    "\n",
    "Quizas usar datos del dia anterior puede ser dificil (si se necesita tiempo para predecir), pero aun así estos podrían ser forecasts hechos con otros modelos, lo cual agregaría un poco de ruido pero permitiria hacer una mejor prediccion. \n",
    "\n",
    "En conclusión el modelo una vez entrenado debe ser aplicado diariamente para predecir si habrá un evento extremo al dia siguiente."
   ]
  },
  {
   "cell_type": "markdown",
   "metadata": {},
   "source": [
    "Para dividir el dataset en train y test haremos un split usando el 75% de los datos para entrenamiendo y un 25% para testing, tomando en cuenta la dimension temporal, para esto veremos hasta que fecha deberemos hacer el corte"
   ]
  },
  {
   "cell_type": "code",
   "execution_count": 40,
   "metadata": {},
   "outputs": [
    {
     "data": {
      "text/html": [
       "<div>\n",
       "<style scoped>\n",
       "    .dataframe tbody tr th:only-of-type {\n",
       "        vertical-align: middle;\n",
       "    }\n",
       "\n",
       "    .dataframe tbody tr th {\n",
       "        vertical-align: top;\n",
       "    }\n",
       "\n",
       "    .dataframe thead th {\n",
       "        text-align: right;\n",
       "    }\n",
       "</style>\n",
       "<table border=\"1\" class=\"dataframe\">\n",
       "  <thead>\n",
       "    <tr style=\"text-align: right;\">\n",
       "      <th></th>\n",
       "      <th>fecha</th>\n",
       "      <th>cum_sum</th>\n",
       "      <th>cum_perc</th>\n",
       "    </tr>\n",
       "  </thead>\n",
       "  <tbody>\n",
       "    <tr>\n",
       "      <th>2008-04-30</th>\n",
       "      <td>92</td>\n",
       "      <td>932869</td>\n",
       "      <td>75.006593</td>\n",
       "    </tr>\n",
       "    <tr>\n",
       "      <th>2008-05-01</th>\n",
       "      <td>89</td>\n",
       "      <td>932958</td>\n",
       "      <td>75.013749</td>\n",
       "    </tr>\n",
       "    <tr>\n",
       "      <th>2008-05-02</th>\n",
       "      <td>89</td>\n",
       "      <td>933047</td>\n",
       "      <td>75.020905</td>\n",
       "    </tr>\n",
       "    <tr>\n",
       "      <th>2008-05-03</th>\n",
       "      <td>87</td>\n",
       "      <td>933134</td>\n",
       "      <td>75.027900</td>\n",
       "    </tr>\n",
       "    <tr>\n",
       "      <th>2008-05-04</th>\n",
       "      <td>88</td>\n",
       "      <td>933222</td>\n",
       "      <td>75.034976</td>\n",
       "    </tr>\n",
       "  </tbody>\n",
       "</table>\n",
       "</div>"
      ],
      "text/plain": [
       "            fecha  cum_sum   cum_perc\n",
       "2008-04-30     92   932869  75.006593\n",
       "2008-05-01     89   932958  75.013749\n",
       "2008-05-02     89   933047  75.020905\n",
       "2008-05-03     87   933134  75.027900\n",
       "2008-05-04     88   933222  75.034976"
      ]
     },
     "execution_count": 40,
     "metadata": {},
     "output_type": "execute_result"
    }
   ],
   "source": [
    "porcentaje_split = pd.DataFrame(dataset.index.value_counts()).sort_index()\n",
    "porcentaje_split['cum_sum'] = porcentaje_split['fecha'].cumsum()\n",
    "porcentaje_split['cum_perc'] = 100*porcentaje_split['cum_sum']/porcentaje_split['fecha'].sum()\n",
    "porcentaje_split[porcentaje_split.cum_perc > 75].head(5)"
   ]
  },
  {
   "cell_type": "markdown",
   "metadata": {},
   "source": [
    "El corte es alrededor del año 2008, por lo que usaremos ese año para hacer el split entre train y test"
   ]
  },
  {
   "cell_type": "code",
   "execution_count": 41,
   "metadata": {},
   "outputs": [],
   "source": [
    "X = dataset[[ 'moving_caudal', 'moving_temp', \n",
    "        'moving_precp', 'dia_anterior_caudal', 'dia_anterior_temp', 'dia_anterior_precp', \n",
    "       'pct_caudal_extremo', 'caudal_acumulado', 'precp_acumulado']] \n",
    "\n",
    "y = dataset['caudal_extremo']\n",
    "\n",
    "X_train, X_test = X[:'2008-01-01'], X['2008-01-01':]\n",
    "y_train, y_test = y[:'2008-01-01'], y['2008-01-01':]\n",
    "\n",
    "scaler = StandardScaler().fit(X_train)\n",
    "\n",
    "X_train = scaler.transform(X_train)\n",
    "X_test = scaler.transform(X_test)"
   ]
  },
  {
   "cell_type": "markdown",
   "metadata": {},
   "source": [
    "Modelare usando 2 algoritmos, logistic regression y decision trees para ver si existe alguna diferencia entre ellos. Dado lo imbalanceado de la data quizás los métodos de árbol puedan funcionar mejor"
   ]
  },
  {
   "cell_type": "code",
   "execution_count": 42,
   "metadata": {},
   "outputs": [
    {
     "name": "stdout",
     "output_type": "stream",
     "text": [
      "              precision    recall  f1-score   support\n",
      "\n",
      "           0       0.99      0.99      0.99    312127\n",
      "           1       0.76      0.57      0.65      9989\n",
      "\n",
      "    accuracy                           0.98    322116\n",
      "   macro avg       0.87      0.78      0.82    322116\n",
      "weighted avg       0.98      0.98      0.98    322116\n",
      "\n",
      "0.9810720361608861\n",
      "confusion matrix\n"
     ]
    },
    {
     "data": {
      "text/html": [
       "<div>\n",
       "<style scoped>\n",
       "    .dataframe tbody tr th:only-of-type {\n",
       "        vertical-align: middle;\n",
       "    }\n",
       "\n",
       "    .dataframe tbody tr th {\n",
       "        vertical-align: top;\n",
       "    }\n",
       "\n",
       "    .dataframe thead th {\n",
       "        text-align: right;\n",
       "    }\n",
       "</style>\n",
       "<table border=\"1\" class=\"dataframe\">\n",
       "  <thead>\n",
       "    <tr style=\"text-align: right;\">\n",
       "      <th></th>\n",
       "      <th>Predicted No Extremo</th>\n",
       "      <th>Predicted Extremo</th>\n",
       "    </tr>\n",
       "  </thead>\n",
       "  <tbody>\n",
       "    <tr>\n",
       "      <th>Actual No Extremo</th>\n",
       "      <td>310303</td>\n",
       "      <td>1824</td>\n",
       "    </tr>\n",
       "    <tr>\n",
       "      <th>Actual Extremo</th>\n",
       "      <td>4273</td>\n",
       "      <td>5716</td>\n",
       "    </tr>\n",
       "  </tbody>\n",
       "</table>\n",
       "</div>"
      ],
      "text/plain": [
       "                   Predicted No Extremo  Predicted Extremo\n",
       "Actual No Extremo                310303               1824\n",
       "Actual Extremo                     4273               5716"
      ]
     },
     "execution_count": 42,
     "metadata": {},
     "output_type": "execute_result"
    }
   ],
   "source": [
    "#con time series cross val\n",
    "\n",
    "clf = LogisticRegression(random_state=123, solver='lbfgs', max_iter=1000).fit(X_train, y_train)\n",
    "y_test_pred = clf.predict(X_test)\n",
    "print(classification_report(y_test,y_test_pred))\n",
    "print(accuracy_score(y_test,y_test_pred))\n",
    "print('confusion matrix')\n",
    "list1 = [\"Actual No Extremo\", \"Actual Extremo\"]\n",
    "list2 = [\"Predicted No Extremo\", \"Predicted Extremo\"]\n",
    "\n",
    "pd.DataFrame(confusion_matrix(y_test, y_test_pred),list1,list2)"
   ]
  },
  {
   "cell_type": "code",
   "execution_count": 43,
   "metadata": {},
   "outputs": [
    {
     "name": "stdout",
     "output_type": "stream",
     "text": [
      "              precision    recall  f1-score   support\n",
      "\n",
      "           0       0.99      0.98      0.98    312127\n",
      "           1       0.51      0.58      0.54      9989\n",
      "\n",
      "    accuracy                           0.97    322116\n",
      "   macro avg       0.75      0.78      0.76    322116\n",
      "weighted avg       0.97      0.97      0.97    322116\n",
      "\n",
      "0.9695140880924884\n",
      "confusion matrix\n"
     ]
    },
    {
     "data": {
      "text/html": [
       "<div>\n",
       "<style scoped>\n",
       "    .dataframe tbody tr th:only-of-type {\n",
       "        vertical-align: middle;\n",
       "    }\n",
       "\n",
       "    .dataframe tbody tr th {\n",
       "        vertical-align: top;\n",
       "    }\n",
       "\n",
       "    .dataframe thead th {\n",
       "        text-align: right;\n",
       "    }\n",
       "</style>\n",
       "<table border=\"1\" class=\"dataframe\">\n",
       "  <thead>\n",
       "    <tr style=\"text-align: right;\">\n",
       "      <th></th>\n",
       "      <th>Predicted No Extremo</th>\n",
       "      <th>Predicted Extremo</th>\n",
       "    </tr>\n",
       "  </thead>\n",
       "  <tbody>\n",
       "    <tr>\n",
       "      <th>Actual No Extremo</th>\n",
       "      <td>306528</td>\n",
       "      <td>5599</td>\n",
       "    </tr>\n",
       "    <tr>\n",
       "      <th>Actual Extremo</th>\n",
       "      <td>4221</td>\n",
       "      <td>5768</td>\n",
       "    </tr>\n",
       "  </tbody>\n",
       "</table>\n",
       "</div>"
      ],
      "text/plain": [
       "                   Predicted No Extremo  Predicted Extremo\n",
       "Actual No Extremo                306528               5599\n",
       "Actual Extremo                     4221               5768"
      ]
     },
     "execution_count": 43,
     "metadata": {},
     "output_type": "execute_result"
    }
   ],
   "source": [
    "#con time series cross val\n",
    "\n",
    "dt = DecisionTreeClassifier(random_state=123).fit(X_train, y_train)\n",
    "y_test_pred = dt.predict(X_test)\n",
    "print(classification_report(y_test,y_test_pred))\n",
    "print(accuracy_score(y_test,y_test_pred))\n",
    "print('confusion matrix')\n",
    "list1 = [\"Actual No Extremo\", \"Actual Extremo\"]\n",
    "list2 = [\"Predicted No Extremo\", \"Predicted Extremo\"]\n",
    "\n",
    "pd.DataFrame(confusion_matrix(y_test, y_test_pred),list1,list2)"
   ]
  },
  {
   "cell_type": "code",
   "execution_count": 44,
   "metadata": {},
   "outputs": [
    {
     "data": {
      "text/plain": [
       "<matplotlib.axes._subplots.AxesSubplot at 0x1a19936e80>"
      ]
     },
     "execution_count": 44,
     "metadata": {},
     "output_type": "execute_result"
    },
    {
     "data": {
      "image/png": "[encoded data removed]",
      "text/plain": [
       "<Figure size 432x288 with 1 Axes>"
      ]
     },
     "metadata": {
      "needs_background": "light"
     },
     "output_type": "display_data"
    }
   ],
   "source": [
    "feat_importances = pd.Series(dt.feature_importances_, index=X.columns).sort_values()\n",
    "feat_importances.plot(kind='barh', title='s')"
   ]
  },
  {
   "cell_type": "markdown",
   "metadata": {},
   "source": [
    "Ambos modelos logran un 57% de recall , pero la regresion logística tuvo un 75% de precision, comparado con el árbol de decisión que tuvo 50%. \n",
    "\n",
    "No es malo para ser un evento bien extremo, el único gran problema es que la variable que más explica la predicción del modelo es el hecho de que en días anteriores existan eventos extremos de caudal. En la vida real creo que cualquier persona con dos dedos de frente podría decir \"es probable que pase un evento extremo de caudal, dado que ocurrió uno recientemente, tuvimos precipitaciones y un caudal alto el dia anterior\", por lo que el modelo ***no es muy útil***"
   ]
  },
  {
   "cell_type": "code",
   "execution_count": 45,
   "metadata": {},
   "outputs": [
    {
     "data": {
      "text/plain": [
       "Text(0, 0.5, 'Precision')"
      ]
     },
     "execution_count": 45,
     "metadata": {},
     "output_type": "execute_result"
    },
    {
     "data": {
      "image/png": "[encoded data removed]",
      "text/plain": [
       "<Figure size 432x288 with 1 Axes>"
      ]
     },
     "metadata": {
      "needs_background": "light"
     },
     "output_type": "display_data"
    }
   ],
   "source": [
    "precision, recall, _ = precision_recall_curve(y_test, clf.predict_proba(X_test)[:,1])\n",
    "\n",
    "plt.step(recall, precision, color='b')\n",
    "plt.title('Curva precision-recall')\n",
    "plt.xlabel('Recall')\n",
    "plt.ylabel('Precision')\n"
   ]
  },
  {
   "cell_type": "markdown",
   "metadata": {},
   "source": [
    "En la curva precision recall podemos ver que para capturar un 70% de los eventos extremos, tendriamos una precisión de alrededor de 60%. Si el modelo no usara información acerca de eventos extremos pasados en la cercanía me parecería util. Pero creo que de esta manera no sirve de mucho "
   ]
  },
  {
   "cell_type": "markdown",
   "metadata": {},
   "source": [
    "### Bonus : Si no consideramos el hecho de saber que un % de los dias anteriores fue dia con caudal extremo, obtenemos los siguientes resultados."
   ]
  },
  {
   "cell_type": "code",
   "execution_count": 46,
   "metadata": {},
   "outputs": [],
   "source": [
    "X = dataset[[ 'moving_caudal', 'moving_temp', \n",
    "        'moving_precp', 'dia_anterior_caudal', 'dia_anterior_temp', 'dia_anterior_precp', \n",
    "         'caudal_acumulado', 'precp_acumulado']] \n",
    "\n",
    "y = dataset['caudal_extremo']\n",
    "\n",
    "X_train, X_test = X[:'2008-01-01'], X['2008-01-01':]\n",
    "y_train, y_test = y[:'2008-01-01'], y['2008-01-01':]\n",
    "\n",
    "scaler = StandardScaler().fit(X_train)\n",
    "\n",
    "X_train = scaler.transform(X_train)\n",
    "X_test = scaler.transform(X_test)"
   ]
  },
  {
   "cell_type": "code",
   "execution_count": 47,
   "metadata": {},
   "outputs": [
    {
     "name": "stdout",
     "output_type": "stream",
     "text": [
      "              precision    recall  f1-score   support\n",
      "\n",
      "           0       0.97      1.00      0.98    312127\n",
      "           1       0.52      0.08      0.14      9989\n",
      "\n",
      "    accuracy                           0.97    322116\n",
      "   macro avg       0.75      0.54      0.56    322116\n",
      "weighted avg       0.96      0.97      0.96    322116\n",
      "\n",
      "0.9692253722261546\n",
      "confusion matrix\n"
     ]
    },
    {
     "data": {
      "text/html": [
       "<div>\n",
       "<style scoped>\n",
       "    .dataframe tbody tr th:only-of-type {\n",
       "        vertical-align: middle;\n",
       "    }\n",
       "\n",
       "    .dataframe tbody tr th {\n",
       "        vertical-align: top;\n",
       "    }\n",
       "\n",
       "    .dataframe thead th {\n",
       "        text-align: right;\n",
       "    }\n",
       "</style>\n",
       "<table border=\"1\" class=\"dataframe\">\n",
       "  <thead>\n",
       "    <tr style=\"text-align: right;\">\n",
       "      <th></th>\n",
       "      <th>Predicted No Extremo</th>\n",
       "      <th>Predicted Extremo</th>\n",
       "    </tr>\n",
       "  </thead>\n",
       "  <tbody>\n",
       "    <tr>\n",
       "      <th>Actual No Extremo</th>\n",
       "      <td>311383</td>\n",
       "      <td>744</td>\n",
       "    </tr>\n",
       "    <tr>\n",
       "      <th>Actual Extremo</th>\n",
       "      <td>9169</td>\n",
       "      <td>820</td>\n",
       "    </tr>\n",
       "  </tbody>\n",
       "</table>\n",
       "</div>"
      ],
      "text/plain": [
       "                   Predicted No Extremo  Predicted Extremo\n",
       "Actual No Extremo                311383                744\n",
       "Actual Extremo                     9169                820"
      ]
     },
     "execution_count": 47,
     "metadata": {},
     "output_type": "execute_result"
    }
   ],
   "source": [
    "#con time series cross val\n",
    "\n",
    "clf = LogisticRegression(random_state=123, solver='lbfgs', max_iter=1000).fit(X_train, y_train)\n",
    "y_test_pred = clf.predict(X_test)\n",
    "print(classification_report(y_test,y_test_pred))\n",
    "print(accuracy_score(y_test,y_test_pred))\n",
    "print('confusion matrix')\n",
    "list1 = [\"Actual No Extremo\", \"Actual Extremo\"]\n",
    "list2 = [\"Predicted No Extremo\", \"Predicted Extremo\"]\n",
    "\n",
    "pd.DataFrame(confusion_matrix(y_test, y_test_pred),list1,list2)"
   ]
  },
  {
   "cell_type": "code",
   "execution_count": 48,
   "metadata": {},
   "outputs": [
    {
     "name": "stdout",
     "output_type": "stream",
     "text": [
      "              precision    recall  f1-score   support\n",
      "\n",
      "           0       0.97      0.94      0.96    312127\n",
      "           1       0.10      0.20      0.13      9989\n",
      "\n",
      "    accuracy                           0.92    322116\n",
      "   macro avg       0.54      0.57      0.54    322116\n",
      "weighted avg       0.95      0.92      0.93    322116\n",
      "\n",
      "0.9191564529548362\n",
      "confusion matrix\n"
     ]
    },
    {
     "data": {
      "text/html": [
       "<div>\n",
       "<style scoped>\n",
       "    .dataframe tbody tr th:only-of-type {\n",
       "        vertical-align: middle;\n",
       "    }\n",
       "\n",
       "    .dataframe tbody tr th {\n",
       "        vertical-align: top;\n",
       "    }\n",
       "\n",
       "    .dataframe thead th {\n",
       "        text-align: right;\n",
       "    }\n",
       "</style>\n",
       "<table border=\"1\" class=\"dataframe\">\n",
       "  <thead>\n",
       "    <tr style=\"text-align: right;\">\n",
       "      <th></th>\n",
       "      <th>Predicted No Extremo</th>\n",
       "      <th>Predicted Extremo</th>\n",
       "    </tr>\n",
       "  </thead>\n",
       "  <tbody>\n",
       "    <tr>\n",
       "      <th>Actual No Extremo</th>\n",
       "      <td>294102</td>\n",
       "      <td>18025</td>\n",
       "    </tr>\n",
       "    <tr>\n",
       "      <th>Actual Extremo</th>\n",
       "      <td>8016</td>\n",
       "      <td>1973</td>\n",
       "    </tr>\n",
       "  </tbody>\n",
       "</table>\n",
       "</div>"
      ],
      "text/plain": [
       "                   Predicted No Extremo  Predicted Extremo\n",
       "Actual No Extremo                294102              18025\n",
       "Actual Extremo                     8016               1973"
      ]
     },
     "execution_count": 48,
     "metadata": {},
     "output_type": "execute_result"
    }
   ],
   "source": [
    "#con time series cross val\n",
    "\n",
    "dt = DecisionTreeClassifier(random_state=123).fit(X_train, y_train)\n",
    "y_test_pred = dt.predict(X_test)\n",
    "print(classification_report(y_test,y_test_pred))\n",
    "print(accuracy_score(y_test,y_test_pred))\n",
    "print('confusion matrix')\n",
    "list1 = [\"Actual No Extremo\", \"Actual Extremo\"]\n",
    "list2 = [\"Predicted No Extremo\", \"Predicted Extremo\"]\n",
    "\n",
    "pd.DataFrame(confusion_matrix(y_test, y_test_pred),list1,list2)"
   ]
  },
  {
   "cell_type": "markdown",
   "metadata": {},
   "source": [
    "Los modelos funcionan mucho peor, no se si es correcto afirmar que hay data leakage porque no estamos mezclando data de entrenamiento con test, pero podría concluir que el modelo basicamente es inservible cuando no hay eventos de caudal previos en días cercanos. "
   ]
  },
  {
   "cell_type": "markdown",
   "metadata": {},
   "source": [
    "### Probando downsampling\n",
    "\n",
    "Probaré hacer downsampling, para ver si quizás el modelo se ajusta mejor, creo que dado a que es un dataset desbalanceado donde muchos días no pasa nada, el modelo tiene a querer decir que nada va a pasar"
   ]
  },
  {
   "cell_type": "code",
   "execution_count": 49,
   "metadata": {},
   "outputs": [
    {
     "name": "stdout",
     "output_type": "stream",
     "text": [
      "0    156945\n",
      "1     52315\n",
      "Name: caudal_extremo, dtype: int64\n"
     ]
    }
   ],
   "source": [
    "X = dataset[[ 'moving_caudal', 'moving_temp', \n",
    "        'moving_precp', 'dia_anterior_caudal', 'dia_anterior_temp', 'dia_anterior_precp', \n",
    "         'caudal_acumulado', 'precp_acumulado']] \n",
    "\n",
    "y = dataset['caudal_extremo']\n",
    "\n",
    "\n",
    "X_train, X_test = X[:'2008-01-01'], X['2008-01-01':]\n",
    "y_train, y_test = y[:'2008-01-01'], y['2008-01-01':]\n",
    "\n",
    "scaler = StandardScaler().fit(X_train)\n",
    "\n",
    "X = pd.concat([X_train, y_train], axis=1)\n",
    "\n",
    "no_extremo = X[X.caudal_extremo==0]\n",
    "extremo = X[X.caudal_extremo==1]\n",
    "\n",
    "no_extremo_downsample = resample(no_extremo,\n",
    "                                replace = False, \n",
    "                                n_samples = len(extremo)*3,\n",
    "                                random_state = 33) \n",
    "\n",
    "downsampled = pd.concat([no_extremo_downsample, extremo])\n",
    "\n",
    "print(downsampled.caudal_extremo.value_counts())"
   ]
  },
  {
   "cell_type": "code",
   "execution_count": 50,
   "metadata": {},
   "outputs": [],
   "source": [
    "y_train = downsampled.caudal_extremo\n",
    "X_train = downsampled.drop('caudal_extremo', axis=1)"
   ]
  },
  {
   "cell_type": "code",
   "execution_count": 51,
   "metadata": {},
   "outputs": [
    {
     "name": "stdout",
     "output_type": "stream",
     "text": [
      "              precision    recall  f1-score   support\n",
      "\n",
      "           0       0.98      0.97      0.97    312127\n",
      "           1       0.23      0.26      0.25      9989\n",
      "\n",
      "    accuracy                           0.95    322116\n",
      "   macro avg       0.61      0.62      0.61    322116\n",
      "weighted avg       0.95      0.95      0.95    322116\n",
      "\n",
      "0.9505147214047114\n",
      "confusion matrix\n"
     ]
    },
    {
     "data": {
      "text/html": [
       "<div>\n",
       "<style scoped>\n",
       "    .dataframe tbody tr th:only-of-type {\n",
       "        vertical-align: middle;\n",
       "    }\n",
       "\n",
       "    .dataframe tbody tr th {\n",
       "        vertical-align: top;\n",
       "    }\n",
       "\n",
       "    .dataframe thead th {\n",
       "        text-align: right;\n",
       "    }\n",
       "</style>\n",
       "<table border=\"1\" class=\"dataframe\">\n",
       "  <thead>\n",
       "    <tr style=\"text-align: right;\">\n",
       "      <th></th>\n",
       "      <th>Predicted No Extremo</th>\n",
       "      <th>Predicted Extremo</th>\n",
       "    </tr>\n",
       "  </thead>\n",
       "  <tbody>\n",
       "    <tr>\n",
       "      <th>Actual No Extremo</th>\n",
       "      <td>303550</td>\n",
       "      <td>8577</td>\n",
       "    </tr>\n",
       "    <tr>\n",
       "      <th>Actual Extremo</th>\n",
       "      <td>7363</td>\n",
       "      <td>2626</td>\n",
       "    </tr>\n",
       "  </tbody>\n",
       "</table>\n",
       "</div>"
      ],
      "text/plain": [
       "                   Predicted No Extremo  Predicted Extremo\n",
       "Actual No Extremo                303550               8577\n",
       "Actual Extremo                     7363               2626"
      ]
     },
     "execution_count": 51,
     "metadata": {},
     "output_type": "execute_result"
    }
   ],
   "source": [
    "#con time series cross val\n",
    "\n",
    "clf = LogisticRegression(random_state=123, solver='lbfgs', max_iter=1000).fit(X_train, y_train)\n",
    "y_test_pred = clf.predict(X_test)\n",
    "print(classification_report(y_test,y_test_pred))\n",
    "print(accuracy_score(y_test,y_test_pred))\n",
    "print('confusion matrix')\n",
    "list1 = [\"Actual No Extremo\", \"Actual Extremo\"]\n",
    "list2 = [\"Predicted No Extremo\", \"Predicted Extremo\"]\n",
    "\n",
    "pd.DataFrame(confusion_matrix(y_test, y_test_pred),list1,list2)"
   ]
  },
  {
   "cell_type": "code",
   "execution_count": 52,
   "metadata": {},
   "outputs": [
    {
     "data": {
      "text/plain": [
       "Text(0, 0.5, 'Precision')"
      ]
     },
     "execution_count": 52,
     "metadata": {},
     "output_type": "execute_result"
    },
    {
     "data": {
      "image/png": "[encoded data removed]",
      "text/plain": [
       "<Figure size 432x288 with 1 Axes>"
      ]
     },
     "metadata": {
      "needs_background": "light"
     },
     "output_type": "display_data"
    }
   ],
   "source": [
    "precision, recall, _ = precision_recall_curve(y_test, clf.predict_proba(X_test)[:,1])\n",
    "\n",
    "plt.step(recall, precision, color='b')\n",
    "plt.title('Curva precision-recall')\n",
    "plt.xlabel('Recall')\n",
    "plt.ylabel('Precision')\n"
   ]
  },
  {
   "cell_type": "markdown",
   "metadata": {},
   "source": [
    "En este caso el downsampling hace que nuestro modelo pierda mucha precision y se vuelve inservible"
   ]
  },
  {
   "cell_type": "markdown",
   "metadata": {},
   "source": [
    "En conclusion creo que para modelar correctamente los eventos extremos peligrosos, se debe identificar primero la cuencas que son mas peligrosas para la sociedad y a partir de eso crear modelos individuales para cada una de ellas tomando en cuenta características geográficas propias de cada una de ellas. Este análisis tan general difícilmente puede modelar este fenómeno"
   ]
  }
 ],
 "metadata": {
  "kernelspec": {
   "display_name": "Python 3",
   "language": "python",
   "name": "python3"
  },
  "language_info": {
   "codemirror_mode": {
    "name": "ipython",
    "version": 3
   },
   "file_extension": ".py",
   "mimetype": "text/x-python",
   "name": "python",
   "nbconvert_exporter": "python",
   "pygments_lexer": "ipython3",
   "version": "3.7.3"
  }
 },
 "nbformat": 4,
 "nbformat_minor": 2
}
